{
 "cells": [
  {
   "cell_type": "code",
   "execution_count": 1,
   "metadata": {},
   "outputs": [
    {
     "name": "stdout",
     "output_type": "stream",
     "text": [
      "Failed to create database: (sqlite3.OperationalError) unable to open database file\n",
      "(Background on this error at: https://sqlalche.me/e/20/e3q8)\n",
      "Failed to store article URLs: (sqlite3.OperationalError) unable to open database file\n",
      "(Background on this error at: https://sqlalche.me/e/20/e3q8)\n",
      "Failed to store company URLs: (sqlite3.OperationalError) unable to open database file\n",
      "(Background on this error at: https://sqlalche.me/e/20/e3q8)\n"
     ]
    }
   ],
   "source": [
    "from indexer import Indexer\n",
    "\n",
    "solr_url = 'http://localhost:8983/solr/articles'\n",
    "solr_manager = Indexer(solr_url, db_file=\"sqlite:///../data/processed/articles.db\")"
   ]
  },
  {
   "cell_type": "code",
   "execution_count": 2,
   "metadata": {},
   "outputs": [
    {
     "data": {
      "text/plain": [
       "[]"
      ]
     },
     "execution_count": 2,
     "metadata": {},
     "output_type": "execute_result"
    }
   ],
   "source": [
    "solr_manager.query_articles(query=\"technology\", fields = ['description'])"
   ]
  },
  {
   "cell_type": "code",
   "execution_count": 20,
   "metadata": {},
   "outputs": [],
   "source": [
    "import pysolr\n",
    "\n",
    "# Define the URL to your Solr instance, including the core name\n",
    "solr_url = 'http://localhost:8983/solr/articles'\n",
    "\n",
    "# Connect to the specific Solr core\n",
    "solr = pysolr.Solr(solr_url, timeout=10)"
   ]
  },
  {
   "cell_type": "code",
   "execution_count": 29,
   "metadata": {},
   "outputs": [
    {
     "name": "stdout",
     "output_type": "stream",
     "text": [
      "Found 10 documents\n",
      "The title is '{'id': '32', 'tag': ['CTSH'], 'name': ['Cognizant Technology Solutions Corp'], 'description': ['Cognizant Technology Solutions Corporation is a professional services company. The Company operates through four segments: Financial Services (FS), Health Sciences (HS), Products and Resources (P&R), and Communications, Media and Technology (CMT). The FS segment includes banking, capital markets, payments and insurance companies. The HS segment consists of healthcare providers and payers, as well as life sciences companies, including pharmaceutical, biotech and medical device companies. The P&R segment includes manufacturers, automakers, retailers and travel and hospitality companies, as well as companies providing logistics, energy, and utility services. The CMT segment includes global communications, media and entertainment, education, information services and technology companies. Its services include digital services and solutions, consulting, application development, systems integration, quality engineering and assurance, application maintenance, infrastructure and security.'], 'keywords': ['fs, hs, cmt, cognizant, solutions, professional services company, financial, products, resources, communications, media, capital markets, insurance companies, healthcare providers, life sciences companies, medical device companies, hospitality companies, utility services, global communications, information services, technology companies, digital services, application development, systems integration, quality engineering, application maintenance'], '_version_': 1781305187453894656}'.\n",
      "The title is '{'id': '16', 'tag': ['BKR'], 'name': ['Baker Hughes Co'], 'description': ['Baker Hughes Company is an energy technology company. The Companyâ€™s segments include Oilfield Services & Equipment (OFSE), and Industrial & Energy Technology (IEM). The OFSE segment designs and manufactures products and provides services for onshore and offshore oil and gas operations across the lifecycle of a well, including exploration, drilling, evaluation, completion, production, intervention and abandonment. The OFSE segment is organized into four product lines, including Well Construction; Completions, Intervention, and Measurements; Production Solutions, and Subsea and Surface Pressure Systems. The IEM segment provides technology solutions and services for mechanical-drive, compression and power-generation applications across the energy industry, including oil and gas, liquefied natural gas operations, downstream refining and petrochemical markets, as well as lower carbon solutions to broader energy and industrial sectors. It also provides equipment, software, and services.'], 'keywords': ['ofse, iem, baker hughes, energy technology company, companyâ€™s, oilfield, energy, segment designs, manufactures products, offshore oil, gas operations, product lines, well, completions, intervention, measurements, production solutions, subsea, surface pressure systems, technology solutions, power-generation applications, energy industry, natural gas operations, petrochemical markets, carbon solutions, broader energy, industrial sectors'], '_version_': 1781305176631541760}'.\n",
      "The title is '{'id': '20', 'tag': ['MCHP'], 'name': ['Microchip Technology Inc'], 'description': [\"Microchip Technology Inc is a provider of smart, connected, and secure embedded control solutions. It is engaged in selling its semiconductor products to distributors and non-distributor customers (direct customers). It operates through two segments: semiconductor products and technology licensing. The semiconductor products segment designs, develops, manufactures and markets mixed-signal microcontrollers, development tools and analog, interface, mixed-signal, timing, wired and wireless connectivity devices, and memory products. The technology licensing segment includes sales and licensing of the Company's intellectual property. It offers a range of general purpose mixed-signal microcontroller products. The Companyâ€™s analog product line consists of several families, including power management, linear, mixed-signal, high voltage, thermal management, discrete diodes and drivers, safety, security, timing, Universal Serial Bus (USB), ethernet, wireless and other interface products.\"], 'keywords': [\"semiconductor products, microchip, inc, control solutions, non-distributor customers, direct customers, semiconductor products segment designs, markets mixed-signal microcontrollers, development tools, wireless connectivity devices, memory products, company 's, intellectual property, general purpose mixed-signal microcontroller products, companyâ€™s, analog product line, power management, high voltage, thermal management, discrete diodes, universal serial bus, usb, interface products\"], '_version_': 1781305182061068288}'.\n",
      "The title is '{'id': '39', 'tag': ['ENPH'], 'name': ['Enphase Energy Inc'], 'description': ['Enphase Energy, Inc. is a global energy technology company. The Company designs, develops, manufactures and sells home energy solutions that manage energy generation, energy storage and control and communications on one platform. Its Enphase Energy System brings a high technology, networked approach to solar generation plus energy storage, by leveraging its design for power electronics, semiconductors and cloud-based software technologies. Its integrated approach to energy solutions increases a home energy potential while, providing advanced monitoring and remote maintenance capabilities. The Enphase Energy System uses a single technology platform for seamless management of the whole solution, enables rapid commissioning with the Enphase Installer Application, consumption monitoring with Enphase IQ Gateway with IQ Combiner+, Enphase Application, a cloud-based energy management platform and its IQ Battery. Its commercial systems have been deployed in approximately 145 countries.'], 'keywords': ['enphase energy, energy storage, global energy technology company, company designs, energy solutions, manage energy generation, high technology, solar generation, power electronics, software technologies, energy solutions increases, energy potential, remote maintenance capabilities, system uses, technology platform, seamless management, whole solution, enphase installer application, enphase iq, iq combiner+, enphase application, energy management platform, iq battery, commercial systems'], '_version_': 1781305190663585792}'.\n",
      "The title is '{'id': '38', 'tag': ['FI'], 'name': ['Fiserv Inc'], 'description': ['Fiserv, Inc. is a global provider of payments and financial services technology solutions. The Company provides account processing and digital banking solutions, card issuer processing and network services, card issuer processing and network services, payments, e-commerce, merchant acquiring and processing, and the Clover cloud-based point-of-sale solution and business management platform. The Companyâ€™s segments include Merchant Acceptance (Acceptance), Financial Technology (Fintech) and Payments and Network (Payments). The Acceptance segment provides a range of commerce-enabling solutions and serves merchants of all sizes around the world. The Fintech segment provides financial institutions around the world with the technology solutions they need to run their operations. The Payments segment provides financial institutions and corporate clients around the world with the products and services required to process digital payment transactions.'], 'keywords': ['payments, card issuer processing, network services, acceptance, fintech, financial institutions, fiserv, global provider, financial services technology solutions, account processing, clover, point-of-sale solution, business management platform, companyâ€™s, merchant acceptance, financial, network, technology solutions, corporate clients, process digital payment transactions'], '_version_': 1781305190297632768}'.\n",
      "The title is '{'id': '93', 'tag': ['GFS'], 'name': ['Globalfoundries Inc'], 'description': [\"GlobalFoundries Inc. is a semiconductor manufacturer. The Company offers a range of mainstream wafer fabrication services and technologies. The Company manufactures a range of semiconductor devices, including microprocessors, mobile application processors, baseband processors, network processors, radio frequency modems, microcontrollers, and power management units. The Company's specialized foundry manufacturing processes include a library consisting of qualified circuit-building block designs (known as IP titles or IP blocks), and differentiated transistor and device technology. The Company's differentiated technology platforms include radio frequency (RF) silicon-on-insulator (SOI), Fin Field-Effect Transistor (FinFET), FDX fully depleted (FD) silicon-on-insulator (SOI), Complementary Metal-Oxide Semiconductor (CMOS), Silicon Germanium (SiGe) and Gallium Nitride (GaN) and Silicon Photonics (SiPh).\"], 'keywords': [\"company 's, ip, soi, globalfoundries, semiconductor manufacturer, mainstream wafer fabrication services, company manufactures, semiconductor devices, mobile application processors, baseband processors, network processors, radio frequency modems, power management units, block designs, device technology, technology platforms, radio frequency, rf, fin field-effect transistor, finfet, fdx, fd, complementary metal-oxide semiconductor, cmos, silicon germanium, sige, gallium nitride, gan, silicon photonics, siph\"], '_version_': 1781305214830116864}'.\n",
      "The title is '{'id': '3', 'tag': ['ADP'], 'name': ['Automatic Data Processing Inc'], 'description': ['Automatic Data Processing, Inc. (ADP) is a global technology company engaged in providing cloud-based human capital management (HCM) solutions that unite HR, payroll, talent, time, tax and benefits administration. Its segments include Employer Services and Professional Employer Organization (PEO). Its Employer Services segment serves clients ranging from single-employee small businesses to large enterprises with tens of thousands of employees around the world, offering a range of technology-based HCM solutions, including its cloud-based platforms, and human resource outsourcing (HRO) solutions (other than PEO) solutions. Its offerings include Payroll Services, Benefits Administration, Talent Management, HR Management, Workforce Management, Compliance Services, Insurance Services and Retirement Services. Its PEO business, called ADP TotalSource, provides clients with employment administration outsourcing solutions. ADP serves over one million clients in 140 countries and territories.'], 'keywords': ['employer, peo, adp, hcm, automatic data processing, global technology company, human capital management, hr, benefits administration, small businesses, large enterprises, human resource, hro, payroll, benefits, talent management, hr management, workforce management, compliance, retirement, adp totalsource, employment administration'], '_version_': 1781305156538728448}'.\n",
      "The title is '{'id': '73', 'tag': ['GOOGL'], 'name': ['Alphabet Class A'], 'description': [\"Alphabet Inc. is a holding company. The Company's segments include Google Services, Google Cloud, and Other Bets. The Google Services segment includes products and services such as ads, Android, Chrome, hardware, Google Maps, Google Play, Search, and YouTube. The Google Cloud segment includes infrastructure and platform services, collaboration tools, and other services for enterprise customers. The Other Bets segment includes earlier stage technologies that are further afield from its core Google business, and it includes the sale of health technology and Internet services. Its Google Cloud provides enterprise-ready cloud services, including Google Cloud Platform and Google Workspace. Google Cloud Platform provides technology in cybersecurity; data, analytics, artificial intelligence (AI), machine learning and infrastructure. The Company's Google Workspace's secure communication and collaboration tools, which include apps, such as Gmail, Docs, Drive, Calendar, Meet, and others.\"], 'keywords': [\"google, google cloud, bets, collaboration tools, google cloud platform, google workspace, alphabet, company 's segments, android, chrome, google maps, search, youtube, platform services, enterprise customers, stage technologies, health technology, internet, enterprise-ready cloud services, artificial intelligence, ai, machine learning, company 's, gmail, docs, calendar\"], '_version_': 1781305206177267712}'.\n",
      "The title is '{'id': '99', 'tag': ['GOOG'], 'name': ['Alphabet Class C'], 'description': [\"Alphabet Inc. is a holding company. The Company's segments include Google Services, Google Cloud, and Other Bets. The Google Services segment includes products and services such as ads, Android, Chrome, hardware, Google Maps, Google Play, Search, and YouTube. The Google Cloud segment includes infrastructure and platform services, collaboration tools, and other services for enterprise customers. The Other Bets segment includes earlier stage technologies that are further afield from its core Google business, and it includes the sale of health technology and Internet services. Its Google Cloud provides enterprise-ready cloud services, including Google Cloud Platform and Google Workspace. Google Cloud Platform provides technology in cybersecurity; data, analytics, artificial intelligence (AI), machine learning and infrastructure. The Company's Google Workspace's secure communication and collaboration tools, which include apps, such as Gmail, Docs, Drive, Calendar, Meet, and others.\"], 'keywords': [\"google, google cloud, bets, collaboration tools, google cloud platform, google workspace, alphabet, company 's segments, android, chrome, google maps, search, youtube, platform services, enterprise customers, stage technologies, health technology, internet, enterprise-ready cloud services, artificial intelligence, ai, machine learning, company 's, gmail, docs, calendar\"], '_version_': 1781305217838481408}'.\n",
      "The title is '{'id': '79', 'tag': ['PAYX'], 'name': ['Paychex Inc'], 'description': [\"Paychex, Inc. is a provider of human capital management solutions for human resources (HR), payroll, benefits and insurance services for small-to-medium-sized businesses and their employees across the United States and parts of Europe. The Company offers a portfolio of HCM technology and HR advisory solutions that help its clients navigate the challenges of HR. Its clients have the option of doing payroll online using its software as a service (SaaS) technology, outsourcing to its payroll specialists, or using a combination of those solutions. Payroll is integrated with HCM software modules for clients who have more complex HR needs. It also provides comprehensive HR outsourcing through its administrative services organization and PEO solutions. The Company's HCM SaaS platform is Paychex Flex, which provides workforce management throughout the employee life cycle from recruiting and hiring to retirement, including recruiting, onboarding, HR, time and attendance and employee benefits.\"], 'keywords': [\"hr, hcm, paychex, human capital management solutions, human resources, insurance services, europe, advisory solutions, clients navigate, payroll online, saas, payroll specialists, payroll, software modules, administrative services organization, peo, company 's, hcm saas, paychex flex, workforce management, employee life cycle, employee benefits\"], '_version_': 1781305208820727808}'.\n"
     ]
    }
   ],
   "source": [
    "query = \"description:technology\"\n",
    "rows = 100\n",
    "\"\"\"\n",
    "results = solr.search(query,**{\n",
    "                'rows': rows,\n",
    "            })\"\"\"\n",
    "\n",
    "results = solr.search(query, **{'fl': ''})\n",
    "\n",
    "print(\"Found {0} documents\".format(len(results)))\n",
    "for result in results.docs:\n",
    "    print(\"The title is '{0}'.\".format(result))"
   ]
  }
 ],
 "metadata": {
  "kernelspec": {
   "display_name": "Python 3",
   "language": "python",
   "name": "python3"
  },
  "language_info": {
   "codemirror_mode": {
    "name": "ipython",
    "version": 3
   },
   "file_extension": ".py",
   "mimetype": "text/x-python",
   "name": "python",
   "nbconvert_exporter": "python",
   "pygments_lexer": "ipython3",
   "version": "3.10.10"
  }
 },
 "nbformat": 4,
 "nbformat_minor": 2
}
