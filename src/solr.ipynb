{
 "cells": [
  {
   "cell_type": "code",
   "execution_count": 1,
   "metadata": {},
   "outputs": [
    {
     "name": "stdout",
     "output_type": "stream",
     "text": [
      "Solr container with core articles started successfully.\n"
     ]
    }
   ],
   "source": [
    "from solr_manager import SolrManager\n",
    "\n",
    "url = 'http://localhost:8983/solr/'\n",
    "core = 'articles'\n",
    "db = 'sqlite:///../data/articles.db'\n",
    "solr = SolrManager(url, core, db)"
   ]
  },
  {
   "cell_type": "code",
   "execution_count": null,
   "metadata": {},
   "outputs": [],
   "source": [
    "# run if you want to change an existent schema (in case of error, wait for core to load)\n",
    "solr.reload_core()"
   ]
  },
  {
   "cell_type": "code",
   "execution_count": null,
   "metadata": {},
   "outputs": [],
   "source": [
    "# run if you want to delete all documents in the core (in case of error, wait for core to load)\n",
    "solr.clear_documents()"
   ]
  },
  {
   "cell_type": "code",
   "execution_count": null,
   "metadata": {},
   "outputs": [],
   "source": [
    "# in case of error, wait for core to load\n",
    "schema = 'schema.json'\n",
    "solr.submit_schema(schema)\n",
    "solr.apply_stopwords('stopwords.txt')\n",
    "solr.apply_synonyms('synonyms.txt')"
   ]
  },
  {
   "cell_type": "code",
   "execution_count": null,
   "metadata": {},
   "outputs": [],
   "source": [
    "solr.index_articles()"
   ]
  },
  {
   "cell_type": "code",
   "execution_count": 17,
   "metadata": {},
   "outputs": [
    {
     "name": "stdout",
     "output_type": "stream",
     "text": [
      "results.txt updated\n"
     ]
    }
   ],
   "source": [
    "# search for articles referencing AMD stocks\n",
    "query = \"doc_type:article AND article_text:(advanced micro devices stocks)\"\n",
    "fields = 'article_title, article_text'\n",
    "params = {'fl': fields, 'rows': 100}\n",
    "results = solr.solr.search(query, **params)\n",
    "\n",
    "with open('results.txt', 'w', encoding='utf-8') as file:\n",
    "    file.write('Query: ' + query + '\\n')\n",
    "    file.write('Fields: ' + fields + '\\n')\n",
    "    file.write('Parameters: ' + str(params) + '\\n\\n')\n",
    "    file.write('--------------------------------------------------\\n')\n",
    "    file.write(f'Number of results: {len(results)}\\n')\n",
    "    for result in results:\n",
    "        file.write('--------------------------------------------------\\n\\n')\n",
    "        file.write(str(result.get('article_title')) + '\\n\\n')\n",
    "        solr.write_text(file, result.get('article_text'))\n",
    "\n",
    "print('results.txt updated')"
   ]
  },
  {
   "cell_type": "code",
   "execution_count": 6,
   "metadata": {},
   "outputs": [
    {
     "name": "stdout",
     "output_type": "stream",
     "text": [
      "results.txt updated\n"
     ]
    }
   ],
   "source": [
    "# search for articles related with jira align solutions\n",
    "query = \"{!parent which='doc_type:article'}company_keywords:(jira align)\"\n",
    "fields = 'article_title, article_companies, [child], company_description'\n",
    "params = {'fl': fields, 'rows': 100}\n",
    "results = solr.solr.search(query, **params)\n",
    "\n",
    "with open('results.txt', 'w', encoding='utf-8') as file:\n",
    "    file.write('Query: ' + query + '\\n')\n",
    "    file.write('Fields: ' + fields + '\\n')\n",
    "    file.write('Parameters: ' + str(params) + '\\n\\n')\n",
    "    file.write('--------------------------------------------------\\n')\n",
    "    file.write(f'Number of results: {len(results)}\\n')\n",
    "    for result in results:\n",
    "        file.write('--------------------------------------------------\\n\\n')\n",
    "        file.write(str(result.get('article_title')) + '\\n\\n')\n",
    "        for company in result.get('article_companies'):\n",
    "            solr.write_text(file, company.get('company_description'))\n",
    "            file.write('\\n')\n",
    "\n",
    "print('results.txt updated')"
   ]
  },
  {
   "cell_type": "code",
   "execution_count": 8,
   "metadata": {},
   "outputs": [
    {
     "name": "stdout",
     "output_type": "stream",
     "text": [
      "results.txt updated\n"
     ]
    }
   ],
   "source": [
    "# search for stock downs for Tesla\n",
    "query = \"doc_type:article AND article_text:\\\"Tesla fell\\\"~3\"\n",
    "fields = 'article_title, article_text'\n",
    "params = {'fl': fields, 'rows': 10}\n",
    "results = solr.solr.search(query, **params)\n",
    "\n",
    "with open('results.txt', 'w', encoding='utf-8') as file:\n",
    "    file.write('Query: ' + query + '\\n')\n",
    "    file.write('Fields: ' + fields + '\\n')\n",
    "    file.write('Parameters: ' + str(params) + '\\n\\n')\n",
    "    file.write('--------------------------------------------------\\n')\n",
    "    file.write(f'Number of results: {len(results)}\\n')\n",
    "    for result in results:\n",
    "        file.write('--------------------------------------------------\\n\\n')\n",
    "        file.write(str(result.get('article_title')) + '\\n\\n')\n",
    "        solr.write_text(file, result.get('article_text'))\n",
    "\n",
    "print('results.txt updated')"
   ]
  },
  {
   "cell_type": "code",
   "execution_count": 10,
   "metadata": {},
   "outputs": [
    {
     "name": "stdout",
     "output_type": "stream",
     "text": [
      "results.txt updated\n"
     ]
    }
   ],
   "source": [
    "# search for stock market predictions\n",
    "query = 'doc_type:article AND article_text:(stock market predictions)'\n",
    "fields = 'article_title, article_text'\n",
    "params = {\n",
    "    'defType': 'edismax',\n",
    "    'fl': fields,\n",
    "    'rows': 100,\n",
    "    'mm': '70%',\n",
    "}\n",
    "results = solr.solr.search(query, **params)\n",
    "\n",
    "with open('results.txt', 'w', encoding='utf-8') as file:\n",
    "    file.write('Query: ' + query + '\\n')\n",
    "    file.write('Fields: ' + fields + '\\n')\n",
    "    file.write('Parameters: ' + str(params) + '\\n\\n')\n",
    "    file.write('--------------------------------------------------\\n')\n",
    "    file.write(f'Number of results: {len(results)}\\n')\n",
    "    for result in results:\n",
    "        file.write('--------------------------------------------------\\n\\n')\n",
    "        file.write(str(result.get('article_title')) + '\\n\\n')\n",
    "        solr.write_text(file, result.get('article_text'))\n",
    "\n",
    "print('results.txt updated')"
   ]
  },
  {
   "cell_type": "code",
   "execution_count": 18,
   "metadata": {},
   "outputs": [
    {
     "name": "stdout",
     "output_type": "stream",
     "text": [
      "results.txt updated\n"
     ]
    }
   ],
   "source": [
    "# search for stock rises in artificial intelligence\n",
    "query = \"doc_type:article AND article_text:(AI rises)\"\n",
    "fields = 'article_title, article_text'\n",
    "params = {'fl': fields, 'rows': 10}\n",
    "results = solr.solr.search(query, **params)\n",
    "\n",
    "with open('results.txt', 'w', encoding='utf-8') as file:\n",
    "    file.write('Query: ' + query + '\\n')\n",
    "    file.write('Fields: ' + fields + '\\n')\n",
    "    file.write('Parameters: ' + str(params) + '\\n\\n')\n",
    "    file.write('--------------------------------------------------\\n')\n",
    "    file.write(f'Number of results: {len(results)}\\n')\n",
    "    for result in results:\n",
    "        file.write('--------------------------------------------------\\n\\n')\n",
    "        file.write(str(result.get('article_title')) + '\\n\\n')\n",
    "        solr.write_text(file, result.get('article_text'))\n",
    "\n",
    "print('results.txt updated')"
   ]
  },
  {
   "cell_type": "code",
   "execution_count": null,
   "metadata": {},
   "outputs": [],
   "source": [
    "# TO DO\n",
    "# query evaluation"
   ]
  },
  {
   "cell_type": "code",
   "execution_count": 19,
   "metadata": {},
   "outputs": [
    {
     "name": "stdout",
     "output_type": "stream",
     "text": [
      "Solr container with core articles stopped successfully.\n"
     ]
    }
   ],
   "source": [
    "solr.close()"
   ]
  }
 ],
 "metadata": {
  "kernelspec": {
   "display_name": "Python 3",
   "language": "python",
   "name": "python3"
  },
  "language_info": {
   "codemirror_mode": {
    "name": "ipython",
    "version": 3
   },
   "file_extension": ".py",
   "mimetype": "text/x-python",
   "name": "python",
   "nbconvert_exporter": "python",
   "pygments_lexer": "ipython3",
   "version": "3.8.0"
  }
 },
 "nbformat": 4,
 "nbformat_minor": 2
}
