{
 "cells": [
  {
   "cell_type": "code",
   "execution_count": null,
   "metadata": {},
   "outputs": [],
   "source": [
    "from solr_manager import SolrManager\n",
    "\n",
    "url = 'http://localhost:8983/solr/'\n",
    "core = 'articles'\n",
    "db = 'sqlite:///../data/articles.db'\n",
    "solr = SolrManager(url, core, db)"
   ]
  },
  {
   "cell_type": "code",
   "execution_count": null,
   "metadata": {},
   "outputs": [],
   "source": [
    "# run if you want to change an existent schema (in case of error, wait for core to load)\n",
    "solr.reload_core()"
   ]
  },
  {
   "cell_type": "code",
   "execution_count": null,
   "metadata": {},
   "outputs": [],
   "source": [
    "# run if you want to delete all documents in the core (in case of error, wait for core to load)\n",
    "solr.clear_documents()"
   ]
  },
  {
   "cell_type": "code",
   "execution_count": null,
   "metadata": {},
   "outputs": [],
   "source": [
    "# in case of error, wait for core to load\n",
    "schema = 'schema.json'\n",
    "solr.submit_schema(schema)\n",
    "solr.apply_stopwords('stopwords.txt')\n",
    "solr.apply_synonyms('synonyms.txt')"
   ]
  },
  {
   "cell_type": "code",
   "execution_count": null,
   "metadata": {},
   "outputs": [],
   "source": [
    "solr.index_articles(100)"
   ]
  },
  {
   "cell_type": "code",
   "execution_count": null,
   "metadata": {},
   "outputs": [],
   "source": [
    "# TO DO: add field/term/independent boosts, data range filter and wildcards/fuziness to the queries below\n",
    "# TO DO: evaluate queries and also compare results with/without certain filters or query techniques"
   ]
  },
  {
   "cell_type": "code",
   "execution_count": null,
   "metadata": {},
   "outputs": [],
   "source": [
    "# search for articles referencing AMD stocks\n",
    "params = {\n",
    "    'defType': 'edismax',\n",
    "    'qf': 'article_title article_text',\n",
    "    'q': 'advanced micro devices stocks',\n",
    "    'rows': 100\n",
    "}\n",
    "results = solr.solr.search(**params)\n",
    "\n",
    "with open('results.txt', 'w', encoding='utf-8') as file:\n",
    "    file.write('Parameters: ' + str(params) + '\\n\\n')\n",
    "    file.write('--------------------------------------------------\\n')\n",
    "    file.write(f'Number of results: {len(results)}\\n')\n",
    "    for result in results:\n",
    "        file.write('--------------------------------------------------\\n\\n')\n",
    "        file.write(str(result.get('article_title')) + '\\n\\n')\n",
    "        solr.write_text(file, result.get('article_text'))\n",
    "\n",
    "print('results.txt updated')"
   ]
  },
  {
   "cell_type": "code",
   "execution_count": null,
   "metadata": {},
   "outputs": [],
   "source": [
    "# search for articles related with jira align solutions\n",
    "params = {\n",
    "    'q': \"{!parent which='doc_type:article'} company_keywords:(jira align)\",\n",
    "    'fl': 'article_title article_companies [child] company_description',\n",
    "    'rows': 100\n",
    "}\n",
    "results = solr.solr.search(**params)\n",
    "\n",
    "with open('results.txt', 'w', encoding='utf-8') as file:\n",
    "    file.write('Parameters: ' + str(params) + '\\n\\n')\n",
    "    file.write('--------------------------------------------------\\n')\n",
    "    file.write(f'Number of results: {len(results)}\\n')\n",
    "    for result in results:\n",
    "        file.write('--------------------------------------------------\\n\\n')\n",
    "        file.write(str(result.get('article_title')) + '\\n\\n')\n",
    "        for company in result.get('article_companies'):\n",
    "            solr.write_text(file, company.get('company_description'))\n",
    "            file.write('\\n')\n",
    "\n",
    "print('results.txt updated')"
   ]
  },
  {
   "cell_type": "code",
   "execution_count": null,
   "metadata": {},
   "outputs": [],
   "source": [
    "# search for stock declines for Tesla\n",
    "params = {\n",
    "    'defType': 'edismax',\n",
    "    'qf': 'article_title article_text',\n",
    "    'q': '\\\"Tesla decline\\\"~3', \n",
    "    'rows': 100\n",
    "}\n",
    "results = solr.solr.search(**params)\n",
    "\n",
    "with open('results.txt', 'w', encoding='utf-8') as file:\n",
    "    file.write('Parameters: ' + str(params) + '\\n\\n')\n",
    "    file.write('--------------------------------------------------\\n')\n",
    "    file.write(f'Number of results: {len(results)}\\n')\n",
    "    for result in results:\n",
    "        file.write('--------------------------------------------------\\n\\n')\n",
    "        file.write(str(result.get('article_title')) + '\\n\\n')\n",
    "        solr.write_text(file, result.get('article_text'))\n",
    "\n",
    "print('results.txt updated')"
   ]
  },
  {
   "cell_type": "code",
   "execution_count": null,
   "metadata": {},
   "outputs": [],
   "source": [
    "# search for stock market predictions\n",
    "params = {\n",
    "    'defType': 'edismax',\n",
    "    'qf': 'article_title article_text',\n",
    "    'q': 'stock market predictions',\n",
    "    'rows': 100,\n",
    "    'mm': '70%'\n",
    "}\n",
    "results = solr.solr.search(**params)\n",
    "\n",
    "with open('results.txt', 'w', encoding='utf-8') as file:\n",
    "    file.write('Parameters: ' + str(params) + '\\n\\n')\n",
    "    file.write('--------------------------------------------------\\n')\n",
    "    file.write(f'Number of results: {len(results)}\\n')\n",
    "    for result in results:\n",
    "        file.write('--------------------------------------------------\\n\\n')\n",
    "        file.write(str(result.get('article_title')) + '\\n\\n')\n",
    "        solr.write_text(file, result.get('article_text'))\n",
    "\n",
    "print('results.txt updated')"
   ]
  },
  {
   "cell_type": "code",
   "execution_count": null,
   "metadata": {},
   "outputs": [],
   "source": [
    "# search for stock rises in artificial intelligence\n",
    "params = {\n",
    "    'defType': 'edismax',\n",
    "    'qf': 'article_title article_text',\n",
    "    'q': 'AI rises',\n",
    "    'rows': 100\n",
    "}\n",
    "results = solr.solr.search(**params)\n",
    "\n",
    "with open('results.txt', 'w', encoding='utf-8') as file:\n",
    "    file.write('Parameters: ' + str(params) + '\\n\\n')\n",
    "    file.write('--------------------------------------------------\\n')\n",
    "    file.write(f'Number of results: {len(results)}\\n')\n",
    "    for result in results:\n",
    "        file.write('--------------------------------------------------\\n\\n')\n",
    "        file.write(str(result.get('article_title')) + '\\n\\n')\n",
    "        solr.write_text(file, result.get('article_text'))\n",
    "\n",
    "print('results.txt updated')"
   ]
  },
  {
   "cell_type": "code",
   "execution_count": null,
   "metadata": {},
   "outputs": [],
   "source": [
    "solr.close()"
   ]
  }
 ],
 "metadata": {
  "kernelspec": {
   "display_name": "Python 3",
   "language": "python",
   "name": "python3"
  },
  "language_info": {
   "codemirror_mode": {
    "name": "ipython",
    "version": 3
   },
   "file_extension": ".py",
   "mimetype": "text/x-python",
   "name": "python",
   "nbconvert_exporter": "python",
   "pygments_lexer": "ipython3",
   "version": "3.8.0"
  }
 },
 "nbformat": 4,
 "nbformat_minor": 2
}
