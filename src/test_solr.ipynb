{
 "cells": [
  {
   "cell_type": "code",
   "execution_count": 1,
   "metadata": {},
   "outputs": [
    {
     "name": "stdout",
     "output_type": "stream",
     "text": [
      "Solr container with core articles started successfully.\n"
     ]
    }
   ],
   "source": [
    "from solr_manager import SolrManager\n",
    "\n",
    "url = 'http://localhost:8983/solr/'\n",
    "core = 'articles'\n",
    "db = 'sqlite:///../data/articles.db'\n",
    "solr = SolrManager(url, core, db)"
   ]
  },
  {
   "cell_type": "code",
   "execution_count": 4,
   "metadata": {},
   "outputs": [
    {
     "name": "stdout",
     "output_type": "stream",
     "text": [
      "Core articles unloaded successfully.\n",
      "Solr data deleted successfully.\n",
      "Solr container with core articles stopped successfully.\n",
      "Solr container with core articles started successfully.\n"
     ]
    }
   ],
   "source": [
    "# run if you want to change an existent schema\n",
    "solr.reset_core()"
   ]
  },
  {
   "cell_type": "code",
   "execution_count": 5,
   "metadata": {},
   "outputs": [
    {
     "name": "stdout",
     "output_type": "stream",
     "text": [
      "Schema uploaded successfully.\n"
     ]
    }
   ],
   "source": [
    "# if a message saying the solr core is loading appears, try to run after the loading is done\n",
    "schema = 'schema.json'\n",
    "solr.submit_schema(schema)"
   ]
  },
  {
   "cell_type": "code",
   "execution_count": null,
   "metadata": {},
   "outputs": [],
   "source": [
    "solr.index_articles()"
   ]
  },
  {
   "cell_type": "code",
   "execution_count": null,
   "metadata": {},
   "outputs": [],
   "source": [
    "# working with this while query_articles() is not functional\n",
    "results = solr.solr.search(\"company_description:technology\", **{'fl': '', 'rows': 3})\n",
    "\n",
    "print(\"Found {0} documents\".format(len(results)))\n",
    "for result in results.docs:\n",
    "    print(\"The title is '{0}'.\".format(result))"
   ]
  },
  {
   "cell_type": "code",
   "execution_count": 6,
   "metadata": {},
   "outputs": [
    {
     "name": "stdout",
     "output_type": "stream",
     "text": [
      "Solr container with core articles stopped successfully.\n"
     ]
    }
   ],
   "source": [
    "solr.close()"
   ]
  }
 ],
 "metadata": {
  "kernelspec": {
   "display_name": "Python 3",
   "language": "python",
   "name": "python3"
  },
  "language_info": {
   "codemirror_mode": {
    "name": "ipython",
    "version": 3
   },
   "file_extension": ".py",
   "mimetype": "text/x-python",
   "name": "python",
   "nbconvert_exporter": "python",
   "pygments_lexer": "ipython3",
   "version": "3.8.0"
  }
 },
 "nbformat": 4,
 "nbformat_minor": 2
}
