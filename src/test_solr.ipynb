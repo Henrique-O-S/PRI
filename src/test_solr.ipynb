{
 "cells": [
  {
   "cell_type": "code",
   "execution_count": 1,
   "metadata": {},
   "outputs": [
    {
     "name": "stderr",
     "output_type": "stream",
     "text": [
      "Container pri-solr-1  Created\n",
      "Container pri-solr-1  Starting\n",
      "Container pri-solr-1  Started\n"
     ]
    },
    {
     "name": "stdout",
     "output_type": "stream",
     "text": [
      "Solr container with core articles started successfully.\n"
     ]
    }
   ],
   "source": [
    "from solr_manager import SolrManager\n",
    "\n",
    "url = 'http://localhost:8983/solr/'\n",
    "core = 'articles'\n",
    "db = 'sqlite:///../data/articles.db'\n",
    "solr = SolrManager(url, core, db)"
   ]
  },
  {
   "cell_type": "code",
   "execution_count": 2,
   "metadata": {},
   "outputs": [
    {
     "name": "stdout",
     "output_type": "stream",
     "text": [
      "Core articles unloaded successfully.\n"
     ]
    },
    {
     "name": "stderr",
     "output_type": "stream",
     "text": [
      "Container pri-solr-1  Stopping\n",
      "Container pri-solr-1  Stopping\n",
      "Container pri-solr-1  Stopped\n",
      "Container pri-solr-1  Removing\n",
      "Container pri-solr-1  Removed\n",
      "Network pri_default  Removing\n",
      "Network pri_default  Removed\n"
     ]
    },
    {
     "name": "stdout",
     "output_type": "stream",
     "text": [
      "Solr container with core articles stopped successfully.\n"
     ]
    },
    {
     "name": "stderr",
     "output_type": "stream",
     "text": [
      "Network pri_default  Creating\n",
      "Network pri_default  Created\n",
      "Container pri-solr-1  Creating\n",
      "Container pri-solr-1  Created\n",
      "Container pri-solr-1  Starting\n",
      "Container pri-solr-1  Started\n"
     ]
    },
    {
     "name": "stdout",
     "output_type": "stream",
     "text": [
      "Solr container with core articles started successfully.\n"
     ]
    }
   ],
   "source": [
    "# run if you want to change an existent schema (in case of error, wait for core to load)\n",
    "solr.reload_core()"
   ]
  },
  {
   "cell_type": "code",
   "execution_count": 3,
   "metadata": {},
   "outputs": [
    {
     "name": "stdout",
     "output_type": "stream",
     "text": [
      "Data cleared successfully.\n"
     ]
    }
   ],
   "source": [
    "# run if you want to delete all documents in the core (in case of error, wait for core to load)\n",
    "solr.clear_documents()"
   ]
  },
  {
   "cell_type": "code",
   "execution_count": 4,
   "metadata": {},
   "outputs": [
    {
     "name": "stdout",
     "output_type": "stream",
     "text": [
      "Schema uploaded successfully.\n",
      "Stopwords stored successfully.\n",
      "Synonyms stored successfully.\n"
     ]
    }
   ],
   "source": [
    "# in case of error, wait for core to load\n",
    "schema = 'schema.json'\n",
    "solr.submit_schema(schema)\n",
    "solr.apply_stopwords('stopwords.txt')\n",
    "solr.apply_synonyms('synonyms.txt')"
   ]
  },
  {
   "cell_type": "code",
   "execution_count": 5,
   "metadata": {},
   "outputs": [
    {
     "name": "stdout",
     "output_type": "stream",
     "text": [
      "Indexing article 1...\n",
      "Indexing article 2...\n",
      "Indexing article 3...\n",
      "Indexing article 4...\n",
      "Indexing article 5...\n",
      "Indexing article 6...\n",
      "Indexing article 7...\n",
      "Indexing article 8...\n",
      "Indexing article 9...\n",
      "Indexing article 10...\n",
      "Articles indexed successfully.\n"
     ]
    }
   ],
   "source": [
    "solr.index_articles()"
   ]
  },
  {
   "cell_type": "code",
   "execution_count": 6,
   "metadata": {},
   "outputs": [
    {
     "name": "stdout",
     "output_type": "stream",
     "text": [
      "Number of results: 10\n",
      "--------------------------------------------------\n",
      "Article Id: 1\n",
      "Article Companies: [{'company_tag': 'FTNT', 'id': '1/article_companies#0'}, {'company_tag': 'FANG', 'id': '1/article_companies#1'}, {'company_tag': 'AVGO', 'id': '1/article_companies#2'}, {'company_tag': 'NVDA', 'id': '1/article_companies#3'}, {'company_tag': 'TSLA', 'id': '1/article_companies#4'}]\n",
      "--------------------------------------------------\n",
      "Article Id: 2\n",
      "Article Companies: [{'company_tag': 'MU', 'id': '2/article_companies#0'}, {'company_tag': 'AMD', 'id': '2/article_companies#1'}, {'company_tag': 'MRNA', 'id': '2/article_companies#2'}, {'company_tag': 'FTNT', 'id': '2/article_companies#3'}, {'company_tag': 'GEHC', 'id': '2/article_companies#4'}, {'company_tag': 'TSLA', 'id': '2/article_companies#5'}]\n",
      "--------------------------------------------------\n",
      "Article Id: 3\n",
      "Article Companies: [{'company_tag': 'WBA', 'id': '3/article_companies#0'}, {'company_tag': 'AVGO', 'id': '3/article_companies#1'}, {'company_tag': 'LULU', 'id': '3/article_companies#2'}]\n",
      "--------------------------------------------------\n",
      "Article Id: 4\n",
      "Article Companies: [{'company_tag': 'AMD', 'id': '4/article_companies#0'}, {'company_tag': 'TEAM', 'id': '4/article_companies#1'}, {'company_tag': 'META', 'id': '4/article_companies#2'}]\n",
      "--------------------------------------------------\n",
      "Article Id: 5\n",
      "Article Companies: [{'company_tag': 'LRCX', 'id': '5/article_companies#0'}]\n",
      "--------------------------------------------------\n",
      "Article Id: 6\n",
      "Article Companies: [{'company_tag': 'META', 'id': '6/article_companies#0'}, {'company_tag': 'AAPL', 'id': '6/article_companies#1'}, {'company_tag': 'TSLA', 'id': '6/article_companies#2'}]\n",
      "--------------------------------------------------\n",
      "Article Id: 7\n",
      "Article Companies: [{'company_tag': 'AMD', 'id': '7/article_companies#0'}, {'company_tag': 'FTNT', 'id': '7/article_companies#1'}, {'company_tag': 'NVDA', 'id': '7/article_companies#2'}, {'company_tag': 'TSLA', 'id': '7/article_companies#3'}]\n",
      "--------------------------------------------------\n",
      "Article Id: 8\n",
      "Article Companies: None\n",
      "--------------------------------------------------\n",
      "Article Id: 9\n",
      "Article Companies: [{'company_tag': 'MU', 'id': '9/article_companies#0'}, {'company_tag': 'INTC', 'id': '9/article_companies#1'}, {'company_tag': 'TSLA', 'id': '9/article_companies#2'}]\n",
      "--------------------------------------------------\n",
      "Article Id: 10\n",
      "Article Companies: [{'company_tag': 'KLAC', 'id': '10/article_companies#0'}, {'company_tag': 'ISRG', 'id': '10/article_companies#1'}, {'company_tag': 'WBA', 'id': '10/article_companies#2'}, {'company_tag': 'ENPH', 'id': '10/article_companies#3'}, {'company_tag': 'ALGN', 'id': '10/article_companies#4'}, {'company_tag': 'TSLA', 'id': '10/article_companies#5'}, {'company_tag': 'NFLX', 'id': '10/article_companies#6'}]\n"
     ]
    }
   ],
   "source": [
    "# search for articles and their companies \n",
    "query = 'doc_type:article'\n",
    "fields = 'id, article_companies, [child], company_tag'\n",
    "params = {'fl': fields, 'rows': 100}\n",
    "\n",
    "results = solr.solr.search(query, **params)\n",
    "print(\"Number of results:\", len(results))\n",
    "for result in results.docs:\n",
    "    print('--------------------------------------------------')\n",
    "    print('Article Id:', result.get('id'))\n",
    "    print('Article Companies:', result.get('article_companies'))"
   ]
  },
  {
   "cell_type": "code",
   "execution_count": 7,
   "metadata": {},
   "outputs": [
    {
     "name": "stdout",
     "output_type": "stream",
     "text": [
      "Number of results: 0\n"
     ]
    }
   ],
   "source": [
    "# search articles where a specific company is in the text\n",
    "query = \"article_text:(Tesla)\"\n",
    "fields = 'id, article_title, article_date'\n",
    "params = {\n",
    "    'defType': 'edismax',\n",
    "    'fl': fields, \n",
    "    'rows': 10,\n",
    "    'bf': 'recip(ms(NOW,article_date),1.65e-9,1,1)'\n",
    "}\n",
    "\n",
    "results = solr.solr.search(query, **params)\n",
    "print(\"Number of results:\", len(results))\n",
    "for result in results:\n",
    "    print('--------------------------------------------------')\n",
    "    print('Article Id:', result.get('id'))\n",
    "    print('Article Title:', result.get('article_title'))\n",
    "    print('Article Date:', result.get('article_date'))"
   ]
  },
  {
   "cell_type": "code",
   "execution_count": 8,
   "metadata": {},
   "outputs": [
    {
     "name": "stdout",
     "output_type": "stream",
     "text": [
      "Number of results: 10\n",
      "--------------------------------------------------\n",
      "Article Id: 4\n",
      "Article Title: Stocks making the biggest moves after hours: Snap, Electronic Arts, Advanced Micro Devices and more\n",
      "Article Date: 2023-01-31T22:07:19Z\n",
      "Article Link: https://www.cnbc.com/2023/01/31/stocks-moving-big-after-hours-snap-ea-amd-wdc.html\n",
      "--------------------------------------------------\n",
      "Article Id: 5\n",
      "Article Title: Stocks making the biggest moves midday: GM, McDonald's, UPS, Pulte, International Paper and more\n",
      "Article Date: 2023-01-31T17:07:23Z\n",
      "Article Link: https://www.cnbc.com/2023/01/31/stocks-making-the-biggest-moves-midday-pentair-ups-and-more.html\n",
      "--------------------------------------------------\n",
      "Article Id: 2\n",
      "Article Title: Stocks making the biggest moves midday: Carvana, Colgate-Palmolive, Tesla and more\n",
      "Article Date: 2023-01-30T17:28:44Z\n",
      "Article Link: https://www.cnbc.com/2023/01/30/stocks-making-the-biggest-moves-midday-carvana-amd-and-more.html\n",
      "--------------------------------------------------\n",
      "Article Id: 3\n",
      "Article Title: Stocks making the biggest moves premarket: Dell, MongoDB, Lululemon and more\n",
      "Article Date: 2023-09-01T12:07:36Z\n",
      "Article Link: https://www.cnbc.com/2023/09/01/stocks-making-the-biggest-moves-premarket-dell-mongodb-lululemon-and-more.html\n",
      "--------------------------------------------------\n",
      "Article Id: 10\n",
      "Article Title: Stocks making the biggest moves midday: Tesla, Spotify, Netflix, Beyond Meat and more\n",
      "Article Date: 2022-01-31T17:54:08Z\n",
      "Article Link: https://www.cnbc.com/2022/01/31/stocks-making-the-biggest-moves-midday-tesla-spotify-netflix-beyond-meat-and-more.html\n",
      "--------------------------------------------------\n",
      "Article Id: 6\n",
      "Article Title: Stocks making the biggest moves midday: Apple, Meta Platforms, Carnival, Nike and more\n",
      "Article Date: 2023-06-30T16:27:49Z\n",
      "Article Link: https://www.cnbc.com/2023/06/30/stocks-making-the-biggest-moves-midday-apple-meta-platforms-carnival-nike-and-more.html\n",
      "--------------------------------------------------\n",
      "Article Id: 7\n",
      "Article Title: Stocks making the biggest premarket moves: ChargePoint, Ford, Nvidia, Tesla and more\n",
      "Article Date: 2023-05-30T12:02:11Z\n",
      "Article Link: https://www.cnbc.com/2023/05/30/stocks-making-the-biggest-premarket-moves-chargepoint-ford-nvidia-tesla-and-mo.html\n",
      "--------------------------------------------------\n",
      "Article Id: 8\n",
      "Article Title: Stocks making the biggest moves after hours: Ambarella, Box, HP and more\n",
      "Article Date: 2023-05-30T21:10:25Z\n",
      "Article Link: https://www.cnbc.com/2023/05/30/stocks-making-biggest-after-hour-moves-ambarella-box-hp-and-more.html\n",
      "--------------------------------------------------\n",
      "Article Id: 1\n",
      "Article Title: Stocks making the biggest moves midday: Nvidia, Tesla, Coinbase and more \n",
      "Article Date: 2023-05-30T16:37:55Z\n",
      "Article Link: https://www.cnbc.com/2023/05/30/stocks-making-the-biggest-moves-midday-nvda-tsla-coin.html\n",
      "--------------------------------------------------\n",
      "Article Id: 9\n",
      "Article Title: Stocks making the biggest premarket moves: Colgate-Palmolive, Kohl's, Boot Barn and more\n",
      "Article Date: 2023-01-30T13:02:53Z\n",
      "Article Link: https://www.cnbc.com/2023/01/30/stocks-making-the-biggest-premarket-moves-colgate-palmolive-kohls-boot-barn-and-more.html\n"
     ]
    }
   ],
   "source": [
    "# search articles where a specific company is in the text\n",
    "query = \"article_text:(Tesla company)\"\n",
    "fields = 'id, article_title, article_date, article_link'\n",
    "params = {\n",
    "    'defType': 'edismax',\n",
    "    'fl': fields, \n",
    "    'rows': 10,\n",
    "    'mm': '75%',\n",
    "}\n",
    "\n",
    "results = solr.solr.search(query, **params)\n",
    "print(\"Number of results:\", len(results))\n",
    "for result in results:\n",
    "    print('--------------------------------------------------')\n",
    "    print('Article Id:', result.get('id'))\n",
    "    print('Article Title:', result.get('article_title'))\n",
    "    print('Article Date:', result.get('article_date'))\n",
    "    print('Article Link:', result.get('article_link'))"
   ]
  },
  {
   "cell_type": "code",
   "execution_count": 9,
   "metadata": {},
   "outputs": [
    {
     "name": "stdout",
     "output_type": "stream",
     "text": [
      "Number of results: 3\n",
      "--------------------------------------------------\n",
      "Article Id: 1\n",
      "Article Title: Stocks making the biggest moves midday: Nvidia, Tesla, Coinbase and more \n",
      "Article Date: 2023-05-30T16:37:55Z\n",
      "--------------------------------------------------\n",
      "Article Id: 7\n",
      "Article Title: Stocks making the biggest premarket moves: ChargePoint, Ford, Nvidia, Tesla and more\n",
      "Article Date: 2023-05-30T12:02:11Z\n",
      "--------------------------------------------------\n",
      "Article Id: 8\n",
      "Article Title: Stocks making the biggest moves after hours: Ambarella, Box, HP and more\n",
      "Article Date: 2023-05-30T21:10:25Z\n"
     ]
    }
   ],
   "source": [
    "# search stock events on a specific day\n",
    "query = \"doc_type:article\"\n",
    "fields = 'id, article_title, article_date'\n",
    "filters = \"article_date:[2023-05-30T00:00:00Z TO 2023-05-30T23:59:59Z]\"\n",
    "params = {'fl': fields, 'fq': filters, 'rows': 10}\n",
    "\n",
    "results = solr.solr.search(query, **params)\n",
    "print(\"Number of results:\", len(results))\n",
    "for result in results:\n",
    "    print('--------------------------------------------------')\n",
    "    print('Article Id:', result.get('id'))\n",
    "    print('Article Title:', result.get('article_title'))\n",
    "    print('Article Date:', result.get('article_date'))"
   ]
  },
  {
   "cell_type": "code",
   "execution_count": 10,
   "metadata": {},
   "outputs": [
    {
     "name": "stdout",
     "output_type": "stream",
     "text": [
      "Number of results: 7\n",
      "--------------------------------------------------\n",
      "Company Name: KLA Corp\n",
      "Company Description: KLA Corporation is a supplier of process control and yield management solutions and services for the semiconductor and related electronics industries. The Company offers a portfolio of inspection and metrology products, and related services, software and other offerings, supports research and development (R&D) and manufacturing of integrated circuits (ICs), wafers and reticles. Its segments include Semiconductor Process Control, Specialty Semiconductor Process and PCB, Display and Component Inspection. Semiconductor Process Control segment provides comprehensive portfolio of inspection, metrology and software products, and related services, helping IC, wafer, reticle/mask and chemical/materials manufacturers achieve target yields throughout the entire fabrication process, from R&D to final volume production. The Specialty Semiconductor Process segment develops and sells advanced vacuum deposition and etch process tools, which are used by a range of specialty semiconductor customers.\n",
      "--------------------------------------------------\n",
      "Company Name: Broadcom Inc\n",
      "Company Description: Broadcom Inc. is a global technology company that designs, develops and supplies a range of semiconductor and infrastructure software solutions. The Companyâ€™s segments include semiconductor solutions and infrastructure software. The semiconductor solutions segment includes all of its product lines and intellectual property (IP) licensing. Its infrastructure software segment includes its mainframe, distributed and cyber security solutions, and its fiber channel storage area networking (FC SAN) business. It provides semiconductor solutions for managing the movement of data in data center, service provider, enterprise and embedded networking applications. It provides a variety of radio frequency semiconductor devices, wireless connectivity solutions, custom touch controllers, and inductive charging solutions for mobile applications. It provides a portfolio of software solutions that enables customers to plan, develop, automate, manage, and secure applications across various platforms.\n",
      "--------------------------------------------------\n",
      "Company Name: Broadcom Inc\n",
      "Company Description: Broadcom Inc. is a global technology company that designs, develops and supplies a range of semiconductor and infrastructure software solutions. The Companyâ€™s segments include semiconductor solutions and infrastructure software. The semiconductor solutions segment includes all of its product lines and intellectual property (IP) licensing. Its infrastructure software segment includes its mainframe, distributed and cyber security solutions, and its fiber channel storage area networking (FC SAN) business. It provides semiconductor solutions for managing the movement of data in data center, service provider, enterprise and embedded networking applications. It provides a variety of radio frequency semiconductor devices, wireless connectivity solutions, custom touch controllers, and inductive charging solutions for mobile applications. It provides a portfolio of software solutions that enables customers to plan, develop, automate, manage, and secure applications across various platforms.\n",
      "--------------------------------------------------\n",
      "Company Name: Lam Research Corp\n",
      "Company Description: Lam Research Corporation is a supplier of wafer fabrication equipment and services to the semiconductor industry. The Company designs, manufactures, markets, refurbishes, and services semiconductor processing equipment used in the fabrication of integrated circuits. Its products and services are designed to help its customers build devices that are used in a variety of electronic products, including mobile phones, personal computers, servers, wearables, automotive vehicles, and data storage devices. Its product families include ALTUS, SABRE, SPEED, Striker, VECTOR, Flex, Kiyo, Syndion, Versys Metal, Coronus, DV-Prime , Da Vinci , EOS , and SP Series. Its customer base includes semiconductor memory, foundries, and integrated device manufacturers (IDMs) that make products, such as non-volatile memory (NVM), dynamic random-access memory (DRAM) and logic devices. It offers services in areas, such as nanoscale applications enablement, chemistry, plasma and fluidics, and others.\n",
      "--------------------------------------------------\n",
      "Company Name: Advanced Micro Devices Inc\n",
      "Company Description: Advanced Micro Devices, Inc. is a global semiconductor company. The Company operates through four segments: Data Center, Client, Gaming, and Embedded. The Data Center segment includes server central processing units (CPUs) and graphics processing units (GPUs), data processing units (DPUs), field programmable gate arrays (FPGAs) and adaptive system-on-a-chip (SoC) products for data centers. The Client segment includes CPUs, accelerated processing units (APUs) that integrate microprocessors and GPUs (APUs), and chipsets for desktop and notebook personal computers. The Gaming segment includes discrete GPUs, semi-custom SoC products and development services. The Embedded segment, which primarily includes embedded CPUs and GPUs, FPGAs, and adaptive SoC products. The Companyâ€™s CPUs for desktop platforms include the AMD Ryzen and AMD Athlon series processors. Its mobile APUs include AMD Ryzen and AMD Athlon mobile processors for the commercial and consumer markets.\n",
      "--------------------------------------------------\n",
      "Company Name: Advanced Micro Devices Inc\n",
      "Company Description: Advanced Micro Devices, Inc. is a global semiconductor company. The Company operates through four segments: Data Center, Client, Gaming, and Embedded. The Data Center segment includes server central processing units (CPUs) and graphics processing units (GPUs), data processing units (DPUs), field programmable gate arrays (FPGAs) and adaptive system-on-a-chip (SoC) products for data centers. The Client segment includes CPUs, accelerated processing units (APUs) that integrate microprocessors and GPUs (APUs), and chipsets for desktop and notebook personal computers. The Gaming segment includes discrete GPUs, semi-custom SoC products and development services. The Embedded segment, which primarily includes embedded CPUs and GPUs, FPGAs, and adaptive SoC products. The Companyâ€™s CPUs for desktop platforms include the AMD Ryzen and AMD Athlon series processors. Its mobile APUs include AMD Ryzen and AMD Athlon mobile processors for the commercial and consumer markets.\n",
      "--------------------------------------------------\n",
      "Company Name: Advanced Micro Devices Inc\n",
      "Company Description: Advanced Micro Devices, Inc. is a global semiconductor company. The Company operates through four segments: Data Center, Client, Gaming, and Embedded. The Data Center segment includes server central processing units (CPUs) and graphics processing units (GPUs), data processing units (DPUs), field programmable gate arrays (FPGAs) and adaptive system-on-a-chip (SoC) products for data centers. The Client segment includes CPUs, accelerated processing units (APUs) that integrate microprocessors and GPUs (APUs), and chipsets for desktop and notebook personal computers. The Gaming segment includes discrete GPUs, semi-custom SoC products and development services. The Embedded segment, which primarily includes embedded CPUs and GPUs, FPGAs, and adaptive SoC products. The Companyâ€™s CPUs for desktop platforms include the AMD Ryzen and AMD Athlon series processors. Its mobile APUs include AMD Ryzen and AMD Athlon mobile processors for the commercial and consumer markets.\n"
     ]
    }
   ],
   "source": [
    "# search for companies of a specific sector\n",
    "query = \"company_keywords:semiconductor\"\n",
    "fields = 'company_name, company_description'\n",
    "params = {'fl': fields, 'rows': 10}\n",
    "results = solr.solr.search(query, **params)\n",
    "\n",
    "print(\"Number of results:\", len(results))\n",
    "for result in results:\n",
    "    print('--------------------------------------------------')\n",
    "    print('Company Name:', result.get('company_name'))\n",
    "    print('Company Description:', result.get('company_description'))"
   ]
  },
  {
   "cell_type": "code",
   "execution_count": 11,
   "metadata": {},
   "outputs": [
    {
     "name": "stdout",
     "output_type": "stream",
     "text": [
      "Number of results: 3\n",
      "--------------------------------------------------\n",
      "Article Id: 1\n",
      "Article Title: Stocks making the biggest moves midday: Nvidia, Tesla, Coinbase and more \n",
      "Article Companies: [{'company_tag': 'FTNT', 'id': '1/article_companies#0'}, {'company_tag': 'FANG', 'id': '1/article_companies#1'}, {'company_tag': 'AVGO', 'id': '1/article_companies#2'}, {'company_tag': 'NVDA', 'id': '1/article_companies#3'}, {'company_tag': 'TSLA', 'id': '1/article_companies#4'}]\n",
      "--------------------------------------------------\n",
      "Article Id: 2\n",
      "Article Title: Stocks making the biggest moves midday: Carvana, Colgate-Palmolive, Tesla and more\n",
      "Article Companies: [{'company_tag': 'MU', 'id': '2/article_companies#0'}, {'company_tag': 'AMD', 'id': '2/article_companies#1'}, {'company_tag': 'MRNA', 'id': '2/article_companies#2'}, {'company_tag': 'FTNT', 'id': '2/article_companies#3'}, {'company_tag': 'GEHC', 'id': '2/article_companies#4'}, {'company_tag': 'TSLA', 'id': '2/article_companies#5'}]\n",
      "--------------------------------------------------\n",
      "Article Id: 7\n",
      "Article Title: Stocks making the biggest premarket moves: ChargePoint, Ford, Nvidia, Tesla and more\n",
      "Article Companies: [{'company_tag': 'AMD', 'id': '7/article_companies#0'}, {'company_tag': 'FTNT', 'id': '7/article_companies#1'}, {'company_tag': 'NVDA', 'id': '7/article_companies#2'}, {'company_tag': 'TSLA', 'id': '7/article_companies#3'}]\n"
     ]
    }
   ],
   "source": [
    "# search for articles with companies of a specific sector\n",
    "query = \"{!parent which='doc_type:article'}company_keywords:cybersecurity\"\n",
    "fields = 'id, article_title, article_companies, [child], company_tag'\n",
    "params = {'fl': fields, 'rows': 100}\n",
    "results = solr.solr.search(query, **params)\n",
    "\n",
    "print(\"Number of results:\", len(results))\n",
    "for result in results:\n",
    "    print('--------------------------------------------------')\n",
    "    print('Article Id:', result.get('id'))\n",
    "    print('Article Title:', result.get('article_title'))\n",
    "    print('Article Companies:', result.get('article_companies'))\n"
   ]
  },
  {
   "cell_type": "code",
   "execution_count": 12,
   "metadata": {},
   "outputs": [
    {
     "name": "stdout",
     "output_type": "stream",
     "text": [
      "Number of results: 0\n"
     ]
    }
   ],
   "source": [
    "# search for stock ups for Tesla\n",
    "query = \"doc_type:article AND article_text:\\\"Tesla gained\\\"~3\"\n",
    "fields = 'id, article_text'\n",
    "params = {'fl': fields, 'rows': 10}\n",
    "results = solr.solr.search(query, **params)\n",
    "\n",
    "print(\"Number of results:\", len(results))\n",
    "for result in results:\n",
    "    print('--------------------------------------------------')\n",
    "    print('Article Id:', result.get('id'))\n",
    "    print('Article Text:', result.get('article_text'))"
   ]
  },
  {
   "cell_type": "code",
   "execution_count": 13,
   "metadata": {},
   "outputs": [
    {
     "name": "stdout",
     "output_type": "stream",
     "text": [
      "Number of results: 0\n"
     ]
    }
   ],
   "source": [
    "# search for stock downs for Tesla\n",
    "query = \"doc_type:article AND article_text:\\\"Tesla fell\\\"~3\"\n",
    "fields = 'id, article_text'\n",
    "params = {'fl': fields, 'rows': 10}\n",
    "results = solr.solr.search(query, **params)\n",
    "\n",
    "print(\"Number of results:\", len(results))\n",
    "for result in results:\n",
    "    print('--------------------------------------------------')\n",
    "    print('Article Id:', result.get('id'))\n",
    "    print('Article Text:', result.get('article_text'))"
   ]
  },
  {
   "cell_type": "code",
   "execution_count": 14,
   "metadata": {},
   "outputs": [
    {
     "name": "stdout",
     "output_type": "stream",
     "text": [
      "Number of results: 10\n",
      "--------------------------------------------------\n",
      "Company id: 1/article_companies#0\n",
      "company_description: Fortinet, Inc. is engaged in offering cybersecurity and networking solutions. The Company provides cyber security solutions to a variety of organizations, including enterprises, communication service providers, security service providers, government organizations and small businesses. The Companyâ€™s product offerings consist of its core platform network security products and its enhanced platform technology products, which are offered in a range of forms spanning physical appliances, virtual appliances, software, and cloud-hosted services. Its Secure Networking solutions enable the convergence of networking and security across all edges to provide next generation firewall, software-defined wide area network (SD- WAN), and secure access service edge (SASE). Its Zero Trust Access solutions enable customers to know and control who and what is on their network. Its FortiGuard security services counter threats in real time with artificial intelligence-powered, coordinated protection.\n",
      "--------------------------------------------------\n",
      "Company id: 1/article_companies#1\n",
      "company_description: Diamondback Energy, Inc. is an independent oil and gas company, which is focused on the acquisition, development, exploration and exploitation of unconventional, onshore oil and natural gas reserves in the Permian Basin in West Texas. The Company operates through upstream segment, which is engaged in the acquisition, development, exploration and exploitation of unconventional, onshore oil and natural gas reserves primarily in the Permian Basin in West Texas. The midstream operations are focused on owning, operating, developing and acquiring midstream infrastructure assets in the Midland and Delaware Basins of the Permian Basin. Its total acreage position in the Permian Basin is approximately 508,767 net acres, which consisted primarily of approximately 325,540 acres in the Midland Basin and approximately 150,719 acres in the Delaware Basin. The Companyâ€™s subsidiaries include Diamondback E&P LLC, Viper Energy Partners GP LLC, Rattler Midstream GP LLC, and QEP Resources, Inc.\n",
      "--------------------------------------------------\n",
      "Company id: 1/article_companies#2\n",
      "company_description: Broadcom Inc. is a global technology company that designs, develops and supplies a range of semiconductor and infrastructure software solutions. The Companyâ€™s segments include semiconductor solutions and infrastructure software. The semiconductor solutions segment includes all of its product lines and intellectual property (IP) licensing. Its infrastructure software segment includes its mainframe, distributed and cyber security solutions, and its fiber channel storage area networking (FC SAN) business. It provides semiconductor solutions for managing the movement of data in data center, service provider, enterprise and embedded networking applications. It provides a variety of radio frequency semiconductor devices, wireless connectivity solutions, custom touch controllers, and inductive charging solutions for mobile applications. It provides a portfolio of software solutions that enables customers to plan, develop, automate, manage, and secure applications across various platforms.\n",
      "--------------------------------------------------\n",
      "Company id: 1/article_companies#3\n",
      "company_description: NVIDIA Corporation accelerates computing to help solve the computational problems. The Company has two segments. The Compute & Networking segment includes its data center accelerated computing platform; networking; automotive artificial intelligence (AI) cockpit, autonomous driving development agreements and autonomous vehicle solutions; electric vehicle computing platforms; Jetson for robotics and other embedded platforms; NVIDIA AI Enterprise and other software; and cryptocurrency mining processors (CMP). The Graphics segment includes GeForce GPUs for gaming and personal computers (PCs), the GeForce NOW game streaming service and related infrastructure, and solutions for gaming platforms; Quadro/NVIDIA RTX GPUs for enterprise workstation graphics; virtual GPU (vGPU), software for cloud-based visual and virtual computing; automotive platforms for infotainment systems; and omniverse enterprise software for building and operating metaverse and three-dimensional Internet applications.\n",
      "--------------------------------------------------\n",
      "Company id: 1/article_companies#4\n",
      "company_description: Tesla, Inc. designs, develops, manufactures, sells and leases fully electric vehicles and energy generation and storage systems, and offer services related to its products. The Company's automotive segment includes the design, development, manufacturing, sales, and leasing of electric vehicles as well as sales of automotive regulatory credits. Additionally, the automotive segment is also comprised of services and other, which includes non-warranty after-sales vehicle services, sales of used vehicles, retail merchandise, sales by its acquired subsidiaries to third party customers, and vehicle insurance. Its energy generation and storage segment include the design, manufacture, installation, sales and leasing of solar energy generation and energy storage products and related services and sales of solar energy systems incentives. Its automotive products include Model 3, Model Y, Model S and Model X. Powerwall and Megapack are its lithium-ion battery energy storage products.\n",
      "--------------------------------------------------\n",
      "Company id: 2/article_companies#0\n",
      "company_description: Micron Technology, Inc. is a provider of memory and storage solutions. The Company's product portfolio includes dynamic random-access memory (DRAM), negative-AND (NAND), three-dimensional (3D) XPoint memory, and NOR, solid-state drives, graphics and high bandwidth memory (HBM), managed NAND and multichip packages. Its brands include Micron and Crucial. The Company's segments include Compute and Networking Business Unit (CNBU) includes memory products sold into client, cloud server, enterprise, graphics, and networking markets; Mobile Business Unit (MBU) includes memory and storage products sold into smartphone and other mobile-device markets; Storage Business Unit (SBU) includes solid state drives (SSDs) and component-level solutions sold into enterprise and cloud, client, and consumer storage markets and other discrete storage products; Embedded Business Unit (EBU) includes memory and storage products sold into automotive, industrial, and consumer markets.\n",
      "--------------------------------------------------\n",
      "Company id: 2/article_companies#1\n",
      "company_description: Advanced Micro Devices, Inc. is a global semiconductor company. The Company operates through four segments: Data Center, Client, Gaming, and Embedded. The Data Center segment includes server central processing units (CPUs) and graphics processing units (GPUs), data processing units (DPUs), field programmable gate arrays (FPGAs) and adaptive system-on-a-chip (SoC) products for data centers. The Client segment includes CPUs, accelerated processing units (APUs) that integrate microprocessors and GPUs (APUs), and chipsets for desktop and notebook personal computers. The Gaming segment includes discrete GPUs, semi-custom SoC products and development services. The Embedded segment, which primarily includes embedded CPUs and GPUs, FPGAs, and adaptive SoC products. The Companyâ€™s CPUs for desktop platforms include the AMD Ryzen and AMD Athlon series processors. Its mobile APUs include AMD Ryzen and AMD Athlon mobile processors for the commercial and consumer markets.\n",
      "--------------------------------------------------\n",
      "Company id: 2/article_companies#2\n",
      "company_description: Moderna, Inc. is a biotechnology company. The Company is focused on developing messenger ribonucleic acid (mRNA) therapeutics and vaccines. It is developing therapeutics and vaccines for infectious diseases, immuno-oncology, rare diseases, autoimmune and cardiovascular diseases, independently and with its strategic collaborators. mRNA medicines are designed to direct the bodyâ€™s cells to produce intracellular, membrane, or secreted proteins that have a therapeutic or preventive benefit with the potential to address a range spectrum of diseases. The Company's products include Spikevax, the Moderna COVID-19 vaccine (mRNA-1273), a bivalent vaccine targeting the BA.1 Omicron variant, combined with Spikevax (mRNA-1273.214), and bivalent vaccine targeting the BA.4/BA.5 Omicron variants combined with Spikevax (mRNA-1273.222). It has a development pipeline of 45 development candidates across its 48 development programs, of which 38 are in clinical studies.\n",
      "--------------------------------------------------\n",
      "Company id: 2/article_companies#3\n",
      "company_description: Fortinet, Inc. is engaged in offering cybersecurity and networking solutions. The Company provides cyber security solutions to a variety of organizations, including enterprises, communication service providers, security service providers, government organizations and small businesses. The Companyâ€™s product offerings consist of its core platform network security products and its enhanced platform technology products, which are offered in a range of forms spanning physical appliances, virtual appliances, software, and cloud-hosted services. Its Secure Networking solutions enable the convergence of networking and security across all edges to provide next generation firewall, software-defined wide area network (SD- WAN), and secure access service edge (SASE). Its Zero Trust Access solutions enable customers to know and control who and what is on their network. Its FortiGuard security services counter threats in real time with artificial intelligence-powered, coordinated protection.\n",
      "--------------------------------------------------\n",
      "Company id: 2/article_companies#4\n",
      "company_description: GE HealthCare Technologies Inc. is a global medical technology, pharmaceutical diagnostics, and digital solutions company. The Company develops, manufactures, and markets a portfolio of products, services, and complementary digital solutions used in the diagnosis, treatment, and monitoring of patients. The Company's segments include Imaging, Ultrasound, Patient Care Solutions and Pharmaceutical Diagnostics. The Imaging segment includes scanning devices, clinical applications, service capabilities and digital solutions. The Ultrasound segment includes screening, diagnosis, treatment, and monitoring of certain diseases. The Patient Care Solutions segment includes medical devices, services, consumable products, services, and digital solutions. The Pharmaceutical Diagnostics segment is a supplier of diagnostic agents to the global radiology and nuclear medicine industry.\n"
     ]
    }
   ],
   "source": [
    "#search for companies that provide software solutions\n",
    "query = \"doc_type:company\"\n",
    "fields = 'id, company_description'\n",
    "filters = 'company_description:\"software\"'\n",
    "params = {'fl': fields, 'rows': 10}\n",
    "results = solr.solr.search(query, **params)\n",
    "\n",
    "print(\"Number of results:\", len(results))\n",
    "for result in results:\n",
    "    print('--------------------------------------------------')\n",
    "    print('Company id:', result.get('id'))\n",
    "    print('company_description:', result.get('company_description'))\n",
    "\n"
   ]
  },
  {
   "cell_type": "code",
   "execution_count": 15,
   "metadata": {},
   "outputs": [],
   "source": [
    "#solr.close()"
   ]
  }
 ],
 "metadata": {
  "kernelspec": {
   "display_name": "Python 3",
   "language": "python",
   "name": "python3"
  },
  "language_info": {
   "codemirror_mode": {
    "name": "ipython",
    "version": 3
   },
   "file_extension": ".py",
   "mimetype": "text/x-python",
   "name": "python",
   "nbconvert_exporter": "python",
   "pygments_lexer": "ipython3",
   "version": "3.11.4"
  }
 },
 "nbformat": 4,
 "nbformat_minor": 2
}
