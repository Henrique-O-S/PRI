{
 "cells": [
  {
   "cell_type": "code",
   "execution_count": 1,
   "metadata": {},
   "outputs": [
    {
     "name": "stderr",
     "output_type": "stream",
     "text": [
      "Container pri-solr-1  Created\n",
      "Container pri-solr-1  Starting\n",
      "Container pri-solr-1  Started\n"
     ]
    },
    {
     "name": "stdout",
     "output_type": "stream",
     "text": [
      "Solr container with core articles started successfully.\n"
     ]
    }
   ],
   "source": [
    "from solr_manager import SolrManager\n",
    "\n",
    "url = 'http://localhost:8983/solr/'\n",
    "core = 'articles'\n",
    "db = 'sqlite:///../data/articles.db'\n",
    "solr = SolrManager(url, core, db)"
   ]
  },
  {
   "cell_type": "code",
   "execution_count": 2,
   "metadata": {},
   "outputs": [
    {
     "name": "stdout",
     "output_type": "stream",
     "text": [
      "Core articles unloaded successfully.\n"
     ]
    },
    {
     "name": "stderr",
     "output_type": "stream",
     "text": [
      "Container pri-solr-1  Stopping\n",
      "Container pri-solr-1  Stopping\n",
      "Container pri-solr-1  Stopped\n",
      "Container pri-solr-1  Removing\n",
      "Container pri-solr-1  Removed\n",
      "Network pri_default  Removing\n",
      "Network pri_default  Removed\n"
     ]
    },
    {
     "name": "stdout",
     "output_type": "stream",
     "text": [
      "Solr container with core articles stopped successfully.\n"
     ]
    },
    {
     "name": "stderr",
     "output_type": "stream",
     "text": [
      "Network pri_default  Creating\n",
      "Network pri_default  Created\n",
      "Container pri-solr-1  Creating\n",
      "Container pri-solr-1  Created\n",
      "Container pri-solr-1  Starting\n",
      "Container pri-solr-1  Started\n"
     ]
    },
    {
     "name": "stdout",
     "output_type": "stream",
     "text": [
      "Solr container with core articles started successfully.\n"
     ]
    }
   ],
   "source": [
    "# run if you want to change an existent schema (in case of error, wait for core to load)\n",
    "solr.reload_core()"
   ]
  },
  {
   "cell_type": "code",
   "execution_count": 3,
   "metadata": {},
   "outputs": [
    {
     "name": "stdout",
     "output_type": "stream",
     "text": [
      "Data cleared successfully.\n"
     ]
    }
   ],
   "source": [
    "# run if you want to delete all documents in the core (in case of error, wait for core to load)\n",
    "solr.clear_documents()"
   ]
  },
  {
   "cell_type": "code",
   "execution_count": 4,
   "metadata": {},
   "outputs": [
    {
     "name": "stdout",
     "output_type": "stream",
     "text": [
      "Schema uploaded successfully.\n",
      "Stopwords stored successfully.\n",
      "Synonyms stored successfully.\n"
     ]
    }
   ],
   "source": [
    "# in case of error, wait for core to load\n",
    "schema = 'schema.json'\n",
    "solr.submit_schema(schema)\n",
    "solr.apply_stopwords('stopwords.txt')\n",
    "solr.apply_synonyms('synonyms.txt')"
   ]
  },
  {
   "cell_type": "code",
   "execution_count": 5,
   "metadata": {},
   "outputs": [
    {
     "name": "stdout",
     "output_type": "stream",
     "text": [
      "Indexing article 1...\n",
      "Indexing article 2...\n",
      "Indexing article 3...\n",
      "Indexing article 4...\n",
      "Indexing article 5...\n",
      "Indexing article 6...\n",
      "Indexing article 7...\n",
      "Indexing article 8...\n",
      "Indexing article 9...\n",
      "Indexing article 10...\n",
      "Articles indexed successfully.\n"
     ]
    }
   ],
   "source": [
    "solr.index_articles()"
   ]
  },
  {
   "cell_type": "code",
   "execution_count": 6,
   "metadata": {},
   "outputs": [
    {
     "name": "stdout",
     "output_type": "stream",
     "text": [
      "Number of results: 10\n",
      "--------------------------------------------------\n",
      "Article Id: 1\n",
      "Article Companies: [{'company_tag': 'FTNT', 'id': '1/article_companies#0'}, {'company_tag': 'FANG', 'id': '1/article_companies#1'}, {'company_tag': 'AVGO', 'id': '1/article_companies#2'}, {'company_tag': 'NVDA', 'id': '1/article_companies#3'}, {'company_tag': 'TSLA', 'id': '1/article_companies#4'}]\n",
      "--------------------------------------------------\n",
      "Article Id: 2\n",
      "Article Companies: [{'company_tag': 'MU', 'id': '2/article_companies#0'}, {'company_tag': 'AMD', 'id': '2/article_companies#1'}, {'company_tag': 'MRNA', 'id': '2/article_companies#2'}, {'company_tag': 'FTNT', 'id': '2/article_companies#3'}, {'company_tag': 'GEHC', 'id': '2/article_companies#4'}, {'company_tag': 'TSLA', 'id': '2/article_companies#5'}]\n",
      "--------------------------------------------------\n",
      "Article Id: 3\n",
      "Article Companies: [{'company_tag': 'WBA', 'id': '3/article_companies#0'}, {'company_tag': 'AVGO', 'id': '3/article_companies#1'}, {'company_tag': 'LULU', 'id': '3/article_companies#2'}]\n",
      "--------------------------------------------------\n",
      "Article Id: 4\n",
      "Article Companies: [{'company_tag': 'AMD', 'id': '4/article_companies#0'}, {'company_tag': 'TEAM', 'id': '4/article_companies#1'}, {'company_tag': 'META', 'id': '4/article_companies#2'}]\n",
      "--------------------------------------------------\n",
      "Article Id: 5\n",
      "Article Companies: [{'company_tag': 'LRCX', 'id': '5/article_companies#0'}]\n",
      "--------------------------------------------------\n",
      "Article Id: 6\n",
      "Article Companies: [{'company_tag': 'META', 'id': '6/article_companies#0'}, {'company_tag': 'AAPL', 'id': '6/article_companies#1'}, {'company_tag': 'TSLA', 'id': '6/article_companies#2'}]\n",
      "--------------------------------------------------\n",
      "Article Id: 7\n",
      "Article Companies: [{'company_tag': 'AMD', 'id': '7/article_companies#0'}, {'company_tag': 'FTNT', 'id': '7/article_companies#1'}, {'company_tag': 'NVDA', 'id': '7/article_companies#2'}, {'company_tag': 'TSLA', 'id': '7/article_companies#3'}]\n",
      "--------------------------------------------------\n",
      "Article Id: 8\n",
      "Article Companies: None\n",
      "--------------------------------------------------\n",
      "Article Id: 9\n",
      "Article Companies: [{'company_tag': 'MU', 'id': '9/article_companies#0'}, {'company_tag': 'INTC', 'id': '9/article_companies#1'}, {'company_tag': 'TSLA', 'id': '9/article_companies#2'}]\n",
      "--------------------------------------------------\n",
      "Article Id: 10\n",
      "Article Companies: [{'company_tag': 'KLAC', 'id': '10/article_companies#0'}, {'company_tag': 'ISRG', 'id': '10/article_companies#1'}, {'company_tag': 'WBA', 'id': '10/article_companies#2'}, {'company_tag': 'ENPH', 'id': '10/article_companies#3'}, {'company_tag': 'ALGN', 'id': '10/article_companies#4'}, {'company_tag': 'TSLA', 'id': '10/article_companies#5'}, {'company_tag': 'NFLX', 'id': '10/article_companies#6'}]\n"
     ]
    }
   ],
   "source": [
    "# search for articles and their companies \n",
    "query = 'doc_type:article'\n",
    "fields = 'id, article_companies, [child], company_tag'\n",
    "params = {'fl': fields, 'rows': 100}\n",
    "\n",
    "results = solr.solr.search(query, **params)\n",
    "print(\"Number of results:\", len(results))\n",
    "for result in results.docs:\n",
    "    print('--------------------------------------------------')\n",
    "    print('Article Id:', result.get('id'))\n",
    "    print('Article Companies:', result.get('article_companies'))"
   ]
  },
  {
   "cell_type": "code",
   "execution_count": 7,
   "metadata": {},
   "outputs": [
    {
     "name": "stdout",
     "output_type": "stream",
     "text": [
      "Number of results: 0\n"
     ]
    }
   ],
   "source": [
    "# search articles where a specific company is in the text\n",
    "query = \"article_text:(Tesla)\"\n",
    "fields = 'id, article_title, article_date'\n",
    "params = {\n",
    "    'defType': 'edismax',\n",
    "    'fl': fields, \n",
    "    'rows': 10,\n",
    "    'bf': 'recip(ms(NOW,article_date),1.65e-9,1,1)'\n",
    "}\n",
    "\n",
    "results = solr.solr.search(query, **params)\n",
    "print(\"Number of results:\", len(results))\n",
    "for result in results:\n",
    "    print('--------------------------------------------------')\n",
    "    print('Article Id:', result.get('id'))\n",
    "    print('Article Title:', result.get('article_title'))\n",
    "    print('Article Date:', result.get('article_date'))"
   ]
  },
  {
   "cell_type": "code",
   "execution_count": 8,
   "metadata": {},
   "outputs": [
    {
     "name": "stdout",
     "output_type": "stream",
     "text": [
      "Number of results: 10\n",
      "--------------------------------------------------\n",
      "Article Id: 4\n",
      "Article Title: Stocks making the biggest moves after hours: Snap, Electronic Arts, Advanced Micro Devices and more\n",
      "Article Date: 2023-01-31T22:07:19Z\n",
      "Article Link: https://www.cnbc.com/2023/01/31/stocks-moving-big-after-hours-snap-ea-amd-wdc.html\n",
      "--------------------------------------------------\n",
      "Article Id: 5\n",
      "Article Title: Stocks making the biggest moves midday: GM, McDonald's, UPS, Pulte, International Paper and more\n",
      "Article Date: 2023-01-31T17:07:23Z\n",
      "Article Link: https://www.cnbc.com/2023/01/31/stocks-making-the-biggest-moves-midday-pentair-ups-and-more.html\n",
      "--------------------------------------------------\n",
      "Article Id: 2\n",
      "Article Title: Stocks making the biggest moves midday: Carvana, Colgate-Palmolive, Tesla and more\n",
      "Article Date: 2023-01-30T17:28:44Z\n",
      "Article Link: https://www.cnbc.com/2023/01/30/stocks-making-the-biggest-moves-midday-carvana-amd-and-more.html\n",
      "--------------------------------------------------\n",
      "Article Id: 3\n",
      "Article Title: Stocks making the biggest moves premarket: Dell, MongoDB, Lululemon and more\n",
      "Article Date: 2023-09-01T12:07:36Z\n",
      "Article Link: https://www.cnbc.com/2023/09/01/stocks-making-the-biggest-moves-premarket-dell-mongodb-lululemon-and-more.html\n",
      "--------------------------------------------------\n",
      "Article Id: 10\n",
      "Article Title: Stocks making the biggest moves midday: Tesla, Spotify, Netflix, Beyond Meat and more\n",
      "Article Date: 2022-01-31T17:54:08Z\n",
      "Article Link: https://www.cnbc.com/2022/01/31/stocks-making-the-biggest-moves-midday-tesla-spotify-netflix-beyond-meat-and-more.html\n",
      "--------------------------------------------------\n",
      "Article Id: 6\n",
      "Article Title: Stocks making the biggest moves midday: Apple, Meta Platforms, Carnival, Nike and more\n",
      "Article Date: 2023-06-30T16:27:49Z\n",
      "Article Link: https://www.cnbc.com/2023/06/30/stocks-making-the-biggest-moves-midday-apple-meta-platforms-carnival-nike-and-more.html\n",
      "--------------------------------------------------\n",
      "Article Id: 7\n",
      "Article Title: Stocks making the biggest premarket moves: ChargePoint, Ford, Nvidia, Tesla and more\n",
      "Article Date: 2023-05-30T12:02:11Z\n",
      "Article Link: https://www.cnbc.com/2023/05/30/stocks-making-the-biggest-premarket-moves-chargepoint-ford-nvidia-tesla-and-mo.html\n",
      "--------------------------------------------------\n",
      "Article Id: 8\n",
      "Article Title: Stocks making the biggest moves after hours: Ambarella, Box, HP and more\n",
      "Article Date: 2023-05-30T21:10:25Z\n",
      "Article Link: https://www.cnbc.com/2023/05/30/stocks-making-biggest-after-hour-moves-ambarella-box-hp-and-more.html\n",
      "--------------------------------------------------\n",
      "Article Id: 1\n",
      "Article Title: Stocks making the biggest moves midday: Nvidia, Tesla, Coinbase and more \n",
      "Article Date: 2023-05-30T16:37:55Z\n",
      "Article Link: https://www.cnbc.com/2023/05/30/stocks-making-the-biggest-moves-midday-nvda-tsla-coin.html\n",
      "--------------------------------------------------\n",
      "Article Id: 9\n",
      "Article Title: Stocks making the biggest premarket moves: Colgate-Palmolive, Kohl's, Boot Barn and more\n",
      "Article Date: 2023-01-30T13:02:53Z\n",
      "Article Link: https://www.cnbc.com/2023/01/30/stocks-making-the-biggest-premarket-moves-colgate-palmolive-kohls-boot-barn-and-more.html\n"
     ]
    }
   ],
   "source": [
    "# search articles where a specific company is in the text\n",
    "query = \"article_text:(Tesla company)\"\n",
    "fields = 'id, article_title, article_date, article_link'\n",
    "params = {\n",
    "    'defType': 'edismax',\n",
    "    'fl': fields, \n",
    "    'rows': 10,\n",
    "    'mm': '75%',\n",
    "}\n",
    "\n",
    "results = solr.solr.search(query, **params)\n",
    "print(\"Number of results:\", len(results))\n",
    "for result in results:\n",
    "    print('--------------------------------------------------')\n",
    "    print('Article Id:', result.get('id'))\n",
    "    print('Article Title:', result.get('article_title'))\n",
    "    print('Article Date:', result.get('article_date'))\n",
    "    print('Article Link:', result.get('article_link'))"
   ]
  },
  {
   "cell_type": "code",
   "execution_count": 9,
   "metadata": {},
   "outputs": [
    {
     "name": "stdout",
     "output_type": "stream",
     "text": [
      "Number of results: 3\n",
      "--------------------------------------------------\n",
      "Article Id: 1\n",
      "Article Title: Stocks making the biggest moves midday: Nvidia, Tesla, Coinbase and more \n",
      "Article Date: 2023-05-30T16:37:55Z\n",
      "--------------------------------------------------\n",
      "Article Id: 7\n",
      "Article Title: Stocks making the biggest premarket moves: ChargePoint, Ford, Nvidia, Tesla and more\n",
      "Article Date: 2023-05-30T12:02:11Z\n",
      "--------------------------------------------------\n",
      "Article Id: 8\n",
      "Article Title: Stocks making the biggest moves after hours: Ambarella, Box, HP and more\n",
      "Article Date: 2023-05-30T21:10:25Z\n"
     ]
    }
   ],
   "source": [
    "# search stock events on a specific day\n",
    "query = \"doc_type:article\"\n",
    "fields = 'id, article_title, article_date'\n",
    "filters = \"article_date:[2023-05-30T00:00:00Z TO 2023-05-30T23:59:59Z]\"\n",
    "params = {'fl': fields, 'fq': filters, 'rows': 10}\n",
    "\n",
    "results = solr.solr.search(query, **params)\n",
    "print(\"Number of results:\", len(results))\n",
    "for result in results:\n",
    "    print('--------------------------------------------------')\n",
    "    print('Article Id:', result.get('id'))\n",
    "    print('Article Title:', result.get('article_title'))\n",
    "    print('Article Date:', result.get('article_date'))"
   ]
  },
  {
   "cell_type": "code",
   "execution_count": 10,
   "metadata": {},
   "outputs": [
    {
     "name": "stdout",
     "output_type": "stream",
     "text": [
      "Number of results: 7\n",
      "--------------------------------------------------\n",
      "Company Name: KLA Corp\n",
      "Company Description: KLA Corporation is a supplier of process control and yield management solutions and services for the semiconductor and related electronics industries. The Company offers a portfolio of inspection and metrology products, and related services, software and other offerings, supports research and development (R&D) and manufacturing of integrated circuits (ICs), wafers and reticles. Its segments include Semiconductor Process Control, Specialty Semiconductor Process and PCB, Display and Component Inspection. Semiconductor Process Control segment provides comprehensive portfolio of inspection, metrology and software products, and related services, helping IC, wafer, reticle/mask and chemical/materials manufacturers achieve target yields throughout the entire fabrication process, from R&D to final volume production. The Specialty Semiconductor Process segment develops and sells advanced vacuum deposition and etch process tools, which are used by a range of specialty semiconductor customers.\n",
      "--------------------------------------------------\n",
      "Company Name: Broadcom Inc\n",
      "Company Description: Broadcom Inc. is a global technology company that designs, develops and supplies a range of semiconductor and infrastructure software solutions. The Companyâ€™s segments include semiconductor solutions and infrastructure software. The semiconductor solutions segment includes all of its product lines and intellectual property (IP) licensing. Its infrastructure software segment includes its mainframe, distributed and cyber security solutions, and its fiber channel storage area networking (FC SAN) business. It provides semiconductor solutions for managing the movement of data in data center, service provider, enterprise and embedded networking applications. It provides a variety of radio frequency semiconductor devices, wireless connectivity solutions, custom touch controllers, and inductive charging solutions for mobile applications. It provides a portfolio of software solutions that enables customers to plan, develop, automate, manage, and secure applications across various platforms.\n",
      "--------------------------------------------------\n",
      "Company Name: Broadcom Inc\n",
      "Company Description: Broadcom Inc. is a global technology company that designs, develops and supplies a range of semiconductor and infrastructure software solutions. The Companyâ€™s segments include semiconductor solutions and infrastructure software. The semiconductor solutions segment includes all of its product lines and intellectual property (IP) licensing. Its infrastructure software segment includes its mainframe, distributed and cyber security solutions, and its fiber channel storage area networking (FC SAN) business. It provides semiconductor solutions for managing the movement of data in data center, service provider, enterprise and embedded networking applications. It provides a variety of radio frequency semiconductor devices, wireless connectivity solutions, custom touch controllers, and inductive charging solutions for mobile applications. It provides a portfolio of software solutions that enables customers to plan, develop, automate, manage, and secure applications across various platforms.\n",
      "--------------------------------------------------\n",
      "Company Name: Lam Research Corp\n",
      "Company Description: Lam Research Corporation is a supplier of wafer fabrication equipment and services to the semiconductor industry. The Company designs, manufactures, markets, refurbishes, and services semiconductor processing equipment used in the fabrication of integrated circuits. Its products and services are designed to help its customers build devices that are used in a variety of electronic products, including mobile phones, personal computers, servers, wearables, automotive vehicles, and data storage devices. Its product families include ALTUS, SABRE, SPEED, Striker, VECTOR, Flex, Kiyo, Syndion, Versys Metal, Coronus, DV-Prime , Da Vinci , EOS , and SP Series. Its customer base includes semiconductor memory, foundries, and integrated device manufacturers (IDMs) that make products, such as non-volatile memory (NVM), dynamic random-access memory (DRAM) and logic devices. It offers services in areas, such as nanoscale applications enablement, chemistry, plasma and fluidics, and others.\n",
      "--------------------------------------------------\n",
      "Company Name: Advanced Micro Devices Inc\n",
      "Company Description: Advanced Micro Devices, Inc. is a global semiconductor company. The Company operates through four segments: Data Center, Client, Gaming, and Embedded. The Data Center segment includes server central processing units (CPUs) and graphics processing units (GPUs), data processing units (DPUs), field programmable gate arrays (FPGAs) and adaptive system-on-a-chip (SoC) products for data centers. The Client segment includes CPUs, accelerated processing units (APUs) that integrate microprocessors and GPUs (APUs), and chipsets for desktop and notebook personal computers. The Gaming segment includes discrete GPUs, semi-custom SoC products and development services. The Embedded segment, which primarily includes embedded CPUs and GPUs, FPGAs, and adaptive SoC products. The Companyâ€™s CPUs for desktop platforms include the AMD Ryzen and AMD Athlon series processors. Its mobile APUs include AMD Ryzen and AMD Athlon mobile processors for the commercial and consumer markets.\n",
      "--------------------------------------------------\n",
      "Company Name: Advanced Micro Devices Inc\n",
      "Company Description: Advanced Micro Devices, Inc. is a global semiconductor company. The Company operates through four segments: Data Center, Client, Gaming, and Embedded. The Data Center segment includes server central processing units (CPUs) and graphics processing units (GPUs), data processing units (DPUs), field programmable gate arrays (FPGAs) and adaptive system-on-a-chip (SoC) products for data centers. The Client segment includes CPUs, accelerated processing units (APUs) that integrate microprocessors and GPUs (APUs), and chipsets for desktop and notebook personal computers. The Gaming segment includes discrete GPUs, semi-custom SoC products and development services. The Embedded segment, which primarily includes embedded CPUs and GPUs, FPGAs, and adaptive SoC products. The Companyâ€™s CPUs for desktop platforms include the AMD Ryzen and AMD Athlon series processors. Its mobile APUs include AMD Ryzen and AMD Athlon mobile processors for the commercial and consumer markets.\n",
      "--------------------------------------------------\n",
      "Company Name: Advanced Micro Devices Inc\n",
      "Company Description: Advanced Micro Devices, Inc. is a global semiconductor company. The Company operates through four segments: Data Center, Client, Gaming, and Embedded. The Data Center segment includes server central processing units (CPUs) and graphics processing units (GPUs), data processing units (DPUs), field programmable gate arrays (FPGAs) and adaptive system-on-a-chip (SoC) products for data centers. The Client segment includes CPUs, accelerated processing units (APUs) that integrate microprocessors and GPUs (APUs), and chipsets for desktop and notebook personal computers. The Gaming segment includes discrete GPUs, semi-custom SoC products and development services. The Embedded segment, which primarily includes embedded CPUs and GPUs, FPGAs, and adaptive SoC products. The Companyâ€™s CPUs for desktop platforms include the AMD Ryzen and AMD Athlon series processors. Its mobile APUs include AMD Ryzen and AMD Athlon mobile processors for the commercial and consumer markets.\n"
     ]
    }
   ],
   "source": [
    "# search for companies of a specific sector\n",
    "query = \"company_keywords:semiconductor\"\n",
    "fields = 'company_name, company_description'\n",
    "params = {'fl': fields, 'rows': 10}\n",
    "results = solr.solr.search(query, **params)\n",
    "\n",
    "print(\"Number of results:\", len(results))\n",
    "for result in results:\n",
    "    print('--------------------------------------------------')\n",
    "    print('Company Name:', result.get('company_name'))\n",
    "    print('Company Description:', result.get('company_description'))"
   ]
  },
  {
   "cell_type": "code",
   "execution_count": 11,
   "metadata": {},
   "outputs": [
    {
     "name": "stdout",
     "output_type": "stream",
     "text": [
      "Number of results: 3\n",
      "--------------------------------------------------\n",
      "Article Id: 1\n",
      "Article Title: Stocks making the biggest moves midday: Nvidia, Tesla, Coinbase and more \n",
      "Article Companies: [{'company_tag': 'FTNT', 'id': '1/article_companies#0'}, {'company_tag': 'FANG', 'id': '1/article_companies#1'}, {'company_tag': 'AVGO', 'id': '1/article_companies#2'}, {'company_tag': 'NVDA', 'id': '1/article_companies#3'}, {'company_tag': 'TSLA', 'id': '1/article_companies#4'}]\n",
      "--------------------------------------------------\n",
      "Article Id: 2\n",
      "Article Title: Stocks making the biggest moves midday: Carvana, Colgate-Palmolive, Tesla and more\n",
      "Article Companies: [{'company_tag': 'MU', 'id': '2/article_companies#0'}, {'company_tag': 'AMD', 'id': '2/article_companies#1'}, {'company_tag': 'MRNA', 'id': '2/article_companies#2'}, {'company_tag': 'FTNT', 'id': '2/article_companies#3'}, {'company_tag': 'GEHC', 'id': '2/article_companies#4'}, {'company_tag': 'TSLA', 'id': '2/article_companies#5'}]\n",
      "--------------------------------------------------\n",
      "Article Id: 7\n",
      "Article Title: Stocks making the biggest premarket moves: ChargePoint, Ford, Nvidia, Tesla and more\n",
      "Article Companies: [{'company_tag': 'AMD', 'id': '7/article_companies#0'}, {'company_tag': 'FTNT', 'id': '7/article_companies#1'}, {'company_tag': 'NVDA', 'id': '7/article_companies#2'}, {'company_tag': 'TSLA', 'id': '7/article_companies#3'}]\n"
     ]
    }
   ],
   "source": [
    "# search for articles with companies of a specific sector\n",
    "query = \"{!parent which='doc_type:article'}company_keywords:cybersecurity\"\n",
    "fields = 'id, article_title, article_companies, [child], company_tag'\n",
    "params = {'fl': fields, 'rows': 100}\n",
    "results = solr.solr.search(query, **params)\n",
    "\n",
    "print(\"Number of results:\", len(results))\n",
    "for result in results:\n",
    "    print('--------------------------------------------------')\n",
    "    print('Article Id:', result.get('id'))\n",
    "    print('Article Title:', result.get('article_title'))\n",
    "    print('Article Companies:', result.get('article_companies'))\n"
   ]
  },
  {
   "cell_type": "code",
   "execution_count": 18,
   "metadata": {},
   "outputs": [
    {
     "name": "stdout",
     "output_type": "stream",
     "text": [
      "Number of results: 5\n",
      "--------------------------------------------------\n",
      "Article Id: 7\n",
      "Article Text: Check out the companies making some of the biggest moves in premarket trading. ChargePoint - Shares of the electric vehicle charging station company jumped 5% premarket after Bank of America upgraded the stock to buy. The Wall Street firm called ChargePoint a best-in-class way to play the EV charging theme, highlighting the company's scale and diversity as keys to sustainable growth. Ford Motor - Shares of the automaker rose more than 2% after Jefferies upgraded the stock and said the automaker has a strong plan and management that can help it close the gap with rivals. The analyst also raised his price target on the shares, implying they could rally more than 30%. Tesla - Shares gained 3% premarket. On Monday, Reuters reported a private jet used by CEO Elon Musk arrived in China. Musk is expected to meet with senior Chinese officials and visit Tesla's Shanghai plant, Reuters said. Last Thursday, Tesla and Ford announced a partnership giving Ford owners access to Tesla Superchargers. Coinbase - Shares gained 4% in premarket trading. On Tuesday, Atlantic Equities upgraded Coinbase to overweight from neutral. Analyst Simon Clinch maintained his $70 price target, implying 23% upside from Friday's close. Nvidia - Shares continued to near $1 trillion in market value, up 3. 7% in premarket trading. The artificial intelligence semiconductor company has been soaring since its blockbuster earnings report last Wednesday. C3. ai - AI stocks built on their post-Nvidia earnings gains, with C3. ai up 8. 7%. UiPath gained 6. 4% and Palantir Technologies was ahead 6. 2%. C3. ai reports its next quarterly results Wednesday. Advanced Micro Devices - Semiconductor stocks continued to move higher after Nvidia's earnings last week. AMD added 3. 4%, Qualcomm gained 2% and Broadcom was 1. 8% higher. Intel, which initially dropped on Nvidia's earnings, gained 3%. Paramount Global - The media stock rose 2. 4% Tuesday morning, extending a gain of nearly 6% from Friday. The company's majority shareholder National Amusements announced a $125 million preferred equity investment from BDT Capital Partners last week. - CNBC's Jesse Pound, Tanaya Macheel and Yun Li contributed reporting. \n",
      "--------------------------------------------------\n",
      "Article Id: 1\n",
      "Article Text: Check out the companies making headlines in midday trading. Nvidia - Shares of the chipmaker and artificial intelligence beneficiary popped 3%, building on its recent gains on the heels of a blowout quarter. The moves pushed Nvidia's market value briefly above $1 trillion. Other chipmakers with AI ties also gained. Broadcom pared earlier gains to close 1. 2% lower. Tesla - Shares gained 4. 1% following a Reuters report a private jet used by CEO Elon Musk arrived in China, his first visit in three years. Musk is expected to meet with senior Chinese officials and visit Tesla's Shanghai plant, Reuters said. Ford - Shares of the legacy automaker gained 4. 1% after Jefferies upgraded the F-150 pickup truck maker to a buy from a hold, citing improved confidence in Ford's plan and management after an investor event. Coinbase - Shares of the crypto services business rose more than 7. 5% following an upgrade by Atlantic Equities, which called the company the \"best expression of crypto. \" The analyst kept his price target on the stock, still implying it could rally 23% from Friday's close. Paramount Global - The CBS TV parent rose more than 6. 4%, extending a gain of nearly 6% from Friday. Wolfe Research upgraded the media stock to peer perform from underperform Tuesday following news last week Paramount's majority shareholder National Amusements announced a $125 million preferred equity investment from BDT Capital Partners. Wolfe said the odds of Paramount selling off assets are rising while the stock is depressed and positioning is short. ChargePoint - Shares rose nearly 14. 1%. Bank of America upgraded the electric vehicle charging station stock to buy, calling it a best-in-class play in the EV landscape. Devon Energy, Diamondback, Chevron, ExxonMobil - Energy stocks were under pressure Tuesday as prices for oil and natural gas slid. Shares of Devon Energy dropped 2. 3%, while Diamondback Energy fell more than 1%. Oil giants Chevron and Exxon were each down nearly 1%. C3. ai - Shares of C3. ai soared 33. 4% Tuesday as AI-focused companies got a lift. Other companies connected to AI gained, with UiPath last up 6. 1%. C3. ai reports results Wednesday. Iovance Biotherapeutics - Shares of Iovance Biotherapeutics popped more than 17% after the U. S. Food and Drug Administration accepted its license application for an advanced skin cancer treatment. - CNBC's Tanaya Macheel, Yun Li, Michelle Fox, Alexander Harring and Jesse Pound contributed reporting. \n",
      "--------------------------------------------------\n",
      "Article Id: 5\n",
      "Article Text: Check out the companies making headlines in midday trading Tuesday. General Motors - The automaker's stock surged 8. 4% on Tuesday after the company cruised past analyst estimates on the top and bottom lines for its fourth quarter. The company reported an adjusted $2. 12 per share on $43. 11 billion in revenue. Analysts surveyed by Refinitiv were looking for $1. 69 in earnings per share on $40. 65 billion in revenue. The outperformance came despite profit margins narrowing year over year. GM also said it expected earnings to fall in 2023, but that guidance was still above analyst estimates. Caterpillar - Shares fell about 3. 5% after Caterpillar reported a 29% earnings decline. The construction machinery and equipment maker said higher manufacturing costs and foreign currency effects weighed on its quarterly results. Paramount - Shares of the entertainment giant gained 2. 4% after a downgrade to underperform from neutral by Macquarie, which cited its exposure to advertising. CNBC reported Monday that the company will integrate Showtime's streaming service into its main streaming platform, Paramount+. A. O. Smith - Shares skyrocketed 13. 7% after the manufacturing company reported earnings of $0. 86 per share, beating consensus estimates. The company has beat EPS estimates three times over the last four quarters. McDonald's - Shares dipped 1. 3% after McDonald's reported its latest quarterly results. Although the fast food company's earnings and revenue beat expectations, management cautioned that rising cost pressures are likely to continue in 2023. UPS - Shares of United Parcel Service gained 4. 7% on Tuesday after shipping and transportation giant posted earnings of $3. 62 a share, slightly ahead of the $3. 59 expected by analysts surveyed by Refinitiv. UPS also raised its dividend and sanctioned a new $5 billion stock repurchase plan. PulteGroup - Shares of the homebuilder soared 9. 4% after the company reported better-than-expected fourth quarter earnings. The company reported $3. 63 in adjusted earnings per share on $5. 17 billion of revenue, and its homebuilding gross margin rose year over year. International Paper - Shares of the packaging and paper products company rallied 10. 7% after reporting fourth-quarter adjusted operating earnings of 87 cents per diluted share, exceeding StreetAccount's estimate of 69 cents per diluted share. International Paper also gave fiscal year 2023 guidance of $2. 8 billion compared to the $2. 4 billion expected. Pentair - Shares of Pentair surged 9. 2% after the water treatment company reported earnings that topped Wall Street estimates for earnings and revenue. The company also gave solid forward guidance for earnings for the full year 2023. Lam Research - Shares were up 4. 5% on Tuesday after Citi added a positive catalyst watch on the semiconductor company and said it expects the stock to outperform. - CNBC's Samantha Subin, Alex Harring, Jesse Pound, Yun Li, Carmen Reinicke, Michelle Fox Theobald, and Hakyung Kim contributed reporting. \n",
      "--------------------------------------------------\n",
      "Article Id: 6\n",
      "Article Text: Check out the companies making headlines in midday trading Friday. Apple - Shares of the tech giant gained more than 1%, bringing the company's market value to more than $3 trillion, a milestone first achieved in January 2022. Citi also slapped a $240 price target on the stock, the highest on Wall Street. Coinbase - Shares of the crypto services company slid 4% midday, pressured by a dip in the bitcoin price that followed a Wall Street Journal report that the U. S. Securities and Exchange Commission is calling recent bitcoin exchange-traded funds filings inadequate. Coinbase is the crypto custody partner for BlackRock, whose bitcoin ETF filing earlier this month set off a wave of followers and a rally in the price of bitcoin and Coinbase shares. Pacific Biosciences - The biotech stock popped 5. 8% after Goldman Sachs initiated coverage at a buy, noting the company could be at an inflection point with a new sequencing instrument. SolarEdge - The solar stock rose 3. 3% after Bank of America raised its price target to $396 from $379. The new target implies upside of more than 50% from Thursday's close. The bank also said it has a healthy diversified structural growth story. Bright Health Group - Shares added 2. 6% in midday trading after the health insurer announced a deal to sell its California Medicare Advantage business to Molina Healthcare for roughly $600 million. Nike - Shares of the sneaker giant fell 2. 5% after Nike posted its first earnings miss in three years and reported a decline in margins for its fiscal fourth quarter, which it attributed to higher product input costs, elevated freight and logistics costs, an uptick in promotions and unfavorable currency exchange rates. Meta Platforms - The social media stock added 2. 1% after the U. K. 's Competition and Markets Authority closed its investigation into the company's sale of Giphy to Shutterstock. Xpeng - The Chinese electric-vehicle maker surged more than 12% after unveiling its G6 SUV, which Xpeng is pricing competitively with Tesla's popular Model Y. Carnival - The cruise stock climbed more than 8% after an upgrade from Jefferies to buy from hold, citing leadership changes and an improved outlook. - CNBC's Alex Harring, Tanaya Macheel and Sarah Min contributed reporting. \n",
      "--------------------------------------------------\n",
      "Article Id: 2\n",
      "Article Text: Check out the companies making headlines in midday trading Monday. Colgate-Palmolive - Shares gained 2. 8% after Morgan Stanley upgraded the stock to overweight from equal weight and named it the top pick in the household and personal care industry. The firm said the stock was at a good price point after a recent selloff. Tesla - Shares dropped 2. 8% after Berenberg lowered its earnings estimate for Tesla by around 25% for 2023 following the company's price cuts for its electric vehicles. However, the firm upgraded the stock to buy from hold. GE HealthCare Technologies - The stock rose 4% after the company reported its first earnings after being spun off as a public company from General Electric. GE Healthcare's revenue came in at $4. 9 billion, an 8% year-over-year increase, and its fourth-quarter adjusted EPS was $1. 31. Ford Motor Company - Shares fell nearly 1. 4% after the company announced price cuts for its electric Mustang Mach-E crossover. The move in Ford comes after Tesla said earlier this month it would trim prices to counteract dwindling demand. Macy's - Goldman Sachs said Macy's is the best-positioned retailer and initiated coverage with a buy rating. The stock advanced 1. 8%. AMC Entertainment - Common shares of the theater chain fell by more than 7% after AMC announced a shareholder meeting in March for a potential change to its capital structure. The special meeting would allow shareholders to vote on increasing the total number of shares the company can issue and on a reverse stock split to convert its preferred shares to common shares. The preferred or \"APE\" shares, which trade at a large discount to the common shares, jumped by more than 16%. Carvana - Shares surged 28. 5% as an apparent short squeeze boosted the beleaguered stock. It was also briefly paused in early morning trading due to the rapid runup. Moderna - The vaccine producer fell another 3. 2%. The company's stock price has fallen about 7% since last week, after a Reuters report said the European Union is in talks with Pfizer and BioNTech to reduce the number of Covid-19 vaccine doses it's committed to purchasing this year in exchange for paying a higher price per dose. Advanced Micro Devices - Shares of semiconductor AMD fell 2. 1% after a slew of Wall Street analysts said they are worried about the company's upcoming earnings report following Intel's disastrous release. The company is scheduled to report Tuesday. - CNBC's Hakyung Kim, Jesse Pound, Alex Harring, Carmen Reinicke, Michelle Fox Theobald, and Samantha Subin contributed reporting. \n"
     ]
    }
   ],
   "source": [
    "# search for stock ups for Tesla\n",
    "query = \"doc_type:article AND article_text:(Tesla gained)\"\n",
    "fields = 'id, article_text'\n",
    "params = {'fl': fields, 'rows': 10, 'hl': 'true', 'hl.fl':'article_text'}\n",
    "results = solr.solr.search(query, **params)\n",
    "\n",
    "print(\"Number of results:\", len(results))\n",
    "for result in results:\n",
    "    print('--------------------------------------------------')\n",
    "    print('Article Id:', result.get('id'))\n",
    "    print('Article Text:', result.get('article_text'))"
   ]
  },
  {
   "cell_type": "code",
   "execution_count": 19,
   "metadata": {},
   "outputs": [
    {
     "name": "stdout",
     "output_type": "stream",
     "text": [
      "Number of results: 8\n",
      "--------------------------------------------------\n",
      "Article Id: 2\n",
      "Article Text: Check out the companies making headlines in midday trading Monday. Colgate-Palmolive - Shares gained 2. 8% after Morgan Stanley upgraded the stock to overweight from equal weight and named it the top pick in the household and personal care industry. The firm said the stock was at a good price point after a recent selloff. Tesla - Shares dropped 2. 8% after Berenberg lowered its earnings estimate for Tesla by around 25% for 2023 following the company's price cuts for its electric vehicles. However, the firm upgraded the stock to buy from hold. GE HealthCare Technologies - The stock rose 4% after the company reported its first earnings after being spun off as a public company from General Electric. GE Healthcare's revenue came in at $4. 9 billion, an 8% year-over-year increase, and its fourth-quarter adjusted EPS was $1. 31. Ford Motor Company - Shares fell nearly 1. 4% after the company announced price cuts for its electric Mustang Mach-E crossover. The move in Ford comes after Tesla said earlier this month it would trim prices to counteract dwindling demand. Macy's - Goldman Sachs said Macy's is the best-positioned retailer and initiated coverage with a buy rating. The stock advanced 1. 8%. AMC Entertainment - Common shares of the theater chain fell by more than 7% after AMC announced a shareholder meeting in March for a potential change to its capital structure. The special meeting would allow shareholders to vote on increasing the total number of shares the company can issue and on a reverse stock split to convert its preferred shares to common shares. The preferred or \"APE\" shares, which trade at a large discount to the common shares, jumped by more than 16%. Carvana - Shares surged 28. 5% as an apparent short squeeze boosted the beleaguered stock. It was also briefly paused in early morning trading due to the rapid runup. Moderna - The vaccine producer fell another 3. 2%. The company's stock price has fallen about 7% since last week, after a Reuters report said the European Union is in talks with Pfizer and BioNTech to reduce the number of Covid-19 vaccine doses it's committed to purchasing this year in exchange for paying a higher price per dose. Advanced Micro Devices - Shares of semiconductor AMD fell 2. 1% after a slew of Wall Street analysts said they are worried about the company's upcoming earnings report following Intel's disastrous release. The company is scheduled to report Tuesday. - CNBC's Hakyung Kim, Jesse Pound, Alex Harring, Carmen Reinicke, Michelle Fox Theobald, and Samantha Subin contributed reporting. \n",
      "--------------------------------------------------\n",
      "Article Id: 8\n",
      "Article Text: Here are the stocks making notable moves after the closing bell Tuesday. Ambarella - The chip stock fell 12% in extended trading after Ambarella gave second-quarter revenue guidance of $60 million to $64 million, below the $67. 2 million expected by analysts, according to Refinitiv. The fall came despite Ambarella reporting a smaller-than-expected adjusted loss in the first quarter. Box - Shares of Box rose 3% in extended trading after the cloud company beat estimates in its fiscal first quarter. Box reported 32 cents in adjusted earnings per share on $252 million of revenue. Analysts surveyed by Refinitiv had penciled in 27 cents in earnings per share on $249 million of revenue. Hewlett Packard Enterprise - Shares of the technology services company fell 4% post-market after HP Enterprise posted mixed results in its fiscal second quarter. The company reported 52 cents in adjusted earnings per share on $6. 97 billion of revenue. Analysts surveyed by Refinitiv were expecting just 48 cents per share but $7. 31 billion of revenue. HP Inc. - The tech hardware stock dipped about 2% in extended trading after a mixed fiscal second-quarter report. HP reported 80 cents in adjusted earnings per share, 4 cents above estimates. However, HP's $12. 91 billion in revenue was below the $13. 07 billion expected by analysts, according to Refinitiv. \n",
      "--------------------------------------------------\n",
      "Article Id: 4\n",
      "Article Text: Check out the companies making headlines in after hours trading. Snap Â Shares of social media company Snap sank 14% after the company reported quarterly revenue that was lower than Wall Street expected. Adjusted earnings per share were $0. 14 on revenue of $1. 30 billion. Analysts expected $0. 11 in adjusted earnings on $1. 31 billion in revenue, per Refinitiv. The company didn't give a forecast for the upcoming year. Shares of Meta also fell 1. 4% and Pinterest dipped 1. 8%. Electronic Arts Â Shares of entertainment company Electronic Arts shed 6. 7% after the company reported $2. 34 billion in revenue, less than the $2. 51 billion analysts expected, per Refinitiv. The company also said it expects bookings to be lower than previously expected going forward. Western Digital Â Western Digital fell 5. 6% after reporting quarterly revenue of $3. 11 billion, more than analysts $2. 99 billion estimate, according to Refinitiv. The company said it expects revenue in the upcoming quarter to be lower than it previously guided. Match Group Â Shares of Match Group slid 7. 6% after the company reported quarterly revenue of $786 million, less than the $787 million Wall Street expected, per Refinitiv. The company also had $0. 30 loss per share that wasn't immediately comparable to previous quarter. Match said first-quarter revenue will likely be lower than it expected. Advanced Micro Devices Â Shares of AMD rose 3% after the company reported earnings that beat Wall Street's sales and profit expectations. The chipmaker had adjusted earnings per share of $0. 69 on $5. 6 billion in revenue where analysts expected $0. 67 per share adjusted and $5. 5 billion in revenue, according to Refinitiv. Still, the company said it expects revenue to dip in the first quarter. \n",
      "--------------------------------------------------\n",
      "Article Id: 3\n",
      "Article Text: Check out the companies making headlines before the bell:Dell Technologies - Dell Technologies surged 10. 5% after exceeding analysts' second-quarter expectations. The computer company reported adjusted earnings per share of $1. 74 and revenue of $22. 93 billion. Analysts polled by Refinitiv anticipated earnings per share of $1. 14 and $20. 85 billion. Morgan Stanley named Dell a top pick in IT hardware. MongoDB - MongoDB advanced 5% after topping Wall Street expectations in its latest quarter. The database software maker posted adjusted earnings of 93 cents per share on revenue totaling $423. 8 million for the second quarter. Those results topped expectations of 46 cents in earnings per share and $393 million in revenue, according to a consensus estimate from Refinitiv. Lululemon Athletica - Shares added 2. 3% in premarket trading after the athletic apparel retailer reported an earnings beat. Earnings per share for its second fiscal quarter came in at $2. 68, topping the Refinitiv consensus estimate of $2. 54. Revenue was $2. 21 billion, versus the $2. 17 expected. Lululemon also upped its guidance for the year. Walgreens Boots Alliance - The drugstore chain rose 0. 4% in early trading. Walgreens said Friday that Roz Brewer had stepped down as the company's chief executive and left the board. Vale - The metals and mining stock rose nearly 2% after JPMorgan upgraded Vale to overweight from neutral, saying shares look too cheap to ignore after a recent pullback and valuation reset. VMware - The cloud services company slid 1. 9% before the bell. VMware gave a mixed second-quarter report Thursday, beating expectations for earnings per share while missing on revenue. The company also said it entered a definitive agreement to be acquired by Broadcom. Broadcom - Shares of the chipmaker fell 4% despite Broadcom's fiscal third-quarter results beating expectations. The semiconductor company generated $10. 54 in adjusted earnings per share on $8. 88 billion of revenue. Analysts surveyed by Refinitiv were expecting $10. 42 per share on $8. 86 billion of revenue. Fourth-quarter revenue guidance of $9. 27 billion was roughly in line with estimates. - CNBC's Michelle Fox, Alex Harring, Jesse Pound and Samantha Subin contributed reporting. \n",
      "--------------------------------------------------\n",
      "Article Id: 6\n",
      "Article Text: Check out the companies making headlines in midday trading Friday. Apple - Shares of the tech giant gained more than 1%, bringing the company's market value to more than $3 trillion, a milestone first achieved in January 2022. Citi also slapped a $240 price target on the stock, the highest on Wall Street. Coinbase - Shares of the crypto services company slid 4% midday, pressured by a dip in the bitcoin price that followed a Wall Street Journal report that the U. S. Securities and Exchange Commission is calling recent bitcoin exchange-traded funds filings inadequate. Coinbase is the crypto custody partner for BlackRock, whose bitcoin ETF filing earlier this month set off a wave of followers and a rally in the price of bitcoin and Coinbase shares. Pacific Biosciences - The biotech stock popped 5. 8% after Goldman Sachs initiated coverage at a buy, noting the company could be at an inflection point with a new sequencing instrument. SolarEdge - The solar stock rose 3. 3% after Bank of America raised its price target to $396 from $379. The new target implies upside of more than 50% from Thursday's close. The bank also said it has a healthy diversified structural growth story. Bright Health Group - Shares added 2. 6% in midday trading after the health insurer announced a deal to sell its California Medicare Advantage business to Molina Healthcare for roughly $600 million. Nike - Shares of the sneaker giant fell 2. 5% after Nike posted its first earnings miss in three years and reported a decline in margins for its fiscal fourth quarter, which it attributed to higher product input costs, elevated freight and logistics costs, an uptick in promotions and unfavorable currency exchange rates. Meta Platforms - The social media stock added 2. 1% after the U. K. 's Competition and Markets Authority closed its investigation into the company's sale of Giphy to Shutterstock. Xpeng - The Chinese electric-vehicle maker surged more than 12% after unveiling its G6 SUV, which Xpeng is pricing competitively with Tesla's popular Model Y. Carnival - The cruise stock climbed more than 8% after an upgrade from Jefferies to buy from hold, citing leadership changes and an improved outlook. - CNBC's Alex Harring, Tanaya Macheel and Sarah Min contributed reporting. \n",
      "--------------------------------------------------\n",
      "Article Id: 1\n",
      "Article Text: Check out the companies making headlines in midday trading. Nvidia - Shares of the chipmaker and artificial intelligence beneficiary popped 3%, building on its recent gains on the heels of a blowout quarter. The moves pushed Nvidia's market value briefly above $1 trillion. Other chipmakers with AI ties also gained. Broadcom pared earlier gains to close 1. 2% lower. Tesla - Shares gained 4. 1% following a Reuters report a private jet used by CEO Elon Musk arrived in China, his first visit in three years. Musk is expected to meet with senior Chinese officials and visit Tesla's Shanghai plant, Reuters said. Ford - Shares of the legacy automaker gained 4. 1% after Jefferies upgraded the F-150 pickup truck maker to a buy from a hold, citing improved confidence in Ford's plan and management after an investor event. Coinbase - Shares of the crypto services business rose more than 7. 5% following an upgrade by Atlantic Equities, which called the company the \"best expression of crypto. \" The analyst kept his price target on the stock, still implying it could rally 23% from Friday's close. Paramount Global - The CBS TV parent rose more than 6. 4%, extending a gain of nearly 6% from Friday. Wolfe Research upgraded the media stock to peer perform from underperform Tuesday following news last week Paramount's majority shareholder National Amusements announced a $125 million preferred equity investment from BDT Capital Partners. Wolfe said the odds of Paramount selling off assets are rising while the stock is depressed and positioning is short. ChargePoint - Shares rose nearly 14. 1%. Bank of America upgraded the electric vehicle charging station stock to buy, calling it a best-in-class play in the EV landscape. Devon Energy, Diamondback, Chevron, ExxonMobil - Energy stocks were under pressure Tuesday as prices for oil and natural gas slid. Shares of Devon Energy dropped 2. 3%, while Diamondback Energy fell more than 1%. Oil giants Chevron and Exxon were each down nearly 1%. C3. ai - Shares of C3. ai soared 33. 4% Tuesday as AI-focused companies got a lift. Other companies connected to AI gained, with UiPath last up 6. 1%. C3. ai reports results Wednesday. Iovance Biotherapeutics - Shares of Iovance Biotherapeutics popped more than 17% after the U. S. Food and Drug Administration accepted its license application for an advanced skin cancer treatment. - CNBC's Tanaya Macheel, Yun Li, Michelle Fox, Alexander Harring and Jesse Pound contributed reporting. \n",
      "--------------------------------------------------\n",
      "Article Id: 5\n",
      "Article Text: Check out the companies making headlines in midday trading Tuesday. General Motors - The automaker's stock surged 8. 4% on Tuesday after the company cruised past analyst estimates on the top and bottom lines for its fourth quarter. The company reported an adjusted $2. 12 per share on $43. 11 billion in revenue. Analysts surveyed by Refinitiv were looking for $1. 69 in earnings per share on $40. 65 billion in revenue. The outperformance came despite profit margins narrowing year over year. GM also said it expected earnings to fall in 2023, but that guidance was still above analyst estimates. Caterpillar - Shares fell about 3. 5% after Caterpillar reported a 29% earnings decline. The construction machinery and equipment maker said higher manufacturing costs and foreign currency effects weighed on its quarterly results. Paramount - Shares of the entertainment giant gained 2. 4% after a downgrade to underperform from neutral by Macquarie, which cited its exposure to advertising. CNBC reported Monday that the company will integrate Showtime's streaming service into its main streaming platform, Paramount+. A. O. Smith - Shares skyrocketed 13. 7% after the manufacturing company reported earnings of $0. 86 per share, beating consensus estimates. The company has beat EPS estimates three times over the last four quarters. McDonald's - Shares dipped 1. 3% after McDonald's reported its latest quarterly results. Although the fast food company's earnings and revenue beat expectations, management cautioned that rising cost pressures are likely to continue in 2023. UPS - Shares of United Parcel Service gained 4. 7% on Tuesday after shipping and transportation giant posted earnings of $3. 62 a share, slightly ahead of the $3. 59 expected by analysts surveyed by Refinitiv. UPS also raised its dividend and sanctioned a new $5 billion stock repurchase plan. PulteGroup - Shares of the homebuilder soared 9. 4% after the company reported better-than-expected fourth quarter earnings. The company reported $3. 63 in adjusted earnings per share on $5. 17 billion of revenue, and its homebuilding gross margin rose year over year. International Paper - Shares of the packaging and paper products company rallied 10. 7% after reporting fourth-quarter adjusted operating earnings of 87 cents per diluted share, exceeding StreetAccount's estimate of 69 cents per diluted share. International Paper also gave fiscal year 2023 guidance of $2. 8 billion compared to the $2. 4 billion expected. Pentair - Shares of Pentair surged 9. 2% after the water treatment company reported earnings that topped Wall Street estimates for earnings and revenue. The company also gave solid forward guidance for earnings for the full year 2023. Lam Research - Shares were up 4. 5% on Tuesday after Citi added a positive catalyst watch on the semiconductor company and said it expects the stock to outperform. - CNBC's Samantha Subin, Alex Harring, Jesse Pound, Yun Li, Carmen Reinicke, Michelle Fox Theobald, and Hakyung Kim contributed reporting. \n",
      "--------------------------------------------------\n",
      "Article Id: 10\n",
      "Article Text: Check out the companies making headlines in midday trading. Tesla - Tesla shares surged 10. 7% after Credit Suisse upgraded the stock to outperform from neutral. The firm said the pullback in technology stocks this month has created a buying opportunity. \"With robust fundamentals ahead and with the stock having been caught in the market decline, we believe the stock should recover,\" Credit Suisse said. Spotify - Shares of the streaming platform are on watch after influential podcaster Joe Rogan apologized to Spotify amid a boycott over his content. Neil Young and Joni Mitchell pulled their music from Spotify after the company continued to host \"The Joe Rogan Experience,\" which medical professionals have called out for spreading Covid misinformation. The stock also received an upgrade from Citi. Spotify shares surged more than 13. 5%. Netflix Â Shares of Netflix jumped 11. 1% after Citi upgraded the stock to buy from neutral, saying that the streaming service has ample pricing power to weather high inflation, and that prevailing equity values don't reflect material subscriber growth prospects beyond 2023. Beyond Meat Â The alternative meat stock surged 15. 2% on Monday following a double upgrade from Barclays. The investment firm said that Beyond Meat's partnership with restaurant chains should help it stand out in a competitive industry. Boeing Â Shares of Boeing popped 5. 1% after the aircraft maker won an order from Qatar Airways on Monday. The airline signed a provisional order for 25 737 Max 10 jets. Stock picks and investing trends from CNBC Pro:Goldman says corrections are buying opportunities and rarely turn into bear marketsWharton's Jeremy Siegel says don't panic if the stock market goes down another 10%Earnings playbook: An investor's guide to reports from Alphabet, Amazon, Meta and moreGoldman says corrections are buying opportunities and rarely turn into bear marketsWharton's Jeremy Siegel says don't panic if the stock market goes down another 10%Earnings playbook: An investor's guide to reports from Alphabet, Amazon, Meta and moreIntuitive Surgical Â Shares of Intuitive Surgical rose 4. 6% after Piper Sandler on Monday upgraded the medical stock to overweight from neutral. The firm said the \"recent pullback offers investors an attractive entry point into a premier medtech name. \"Align Technology - Shares of the dental company popped 6. 7% in trading after Morgan Stanley initiated coverage of Align Technology as overweight. \"ALGN is well positioned in the fastest-growing segment of the Dental market with its leading position in clear aligners,\" the firm said. The bank gave the stock a $575 per share price target. Kellogg - Shares of the food company ticked 3. 5% lower after BMO downgraded Kellogg to market perform from outperform. The Wall Street firm said that it sees cereal \"challenges\" ahead. Enphase Energy - Enphase Energy shares surged 13. 4% after the company, which makes microinverters and backup energy storage for solar systems, announced an expansion of battery storage in Massachusetts. Citrix Systems - Citrix shares fell 3. 4% after reports that the cloud-computing company will be taken private in an all-cash deal worth $16. 5 billion, including debt. Vista Equity Partners and an affiliate of Elliott Management are acquiring Citrix for $104 per share, according to The Wall Street Journal. BlackBerry Â BlackBerry shares added 4. 4% after the communications software company announced a deal to sell its legacy patents for $600 million. The noncore patent assets include mobile devices, messaging and wireless networking. Catapult, a special purpose vehicle, was formed to acquire the BlackBerry patents. Otis Worldwide Â Shares of the elevator company rose 3. 2% after Otis reported 72 cents in earnings per share for the fourth quarter, four cents ahead of estimates, according to Refinitiv. The company missed on revenue estimates but said it expected sales and operating margins to grow in 2022. Walgreens Â Walgreens shares dipped about 1. 4% after Bloomberg reported the company has started the sales process for its Boots international drugstore unit. Additional buyout firms, such as Sycamore Partners, are reportedly considering bids. - CNBC's Leslie Joseph, Yun Li, Tanaya Macheel, Margaret Fitzgerald and Jesse Pound contributed reporting\n"
     ]
    }
   ],
   "source": [
    "# search for stock downs for Tesla\n",
    "query = \"doc_type:article AND article_text:(Tesla fell)\"\n",
    "fields = 'id, article_text'\n",
    "params = {'fl': fields, 'rows': 10}\n",
    "results = solr.solr.search(query, **params)\n",
    "\n",
    "print(\"Number of results:\", len(results))\n",
    "for result in results:\n",
    "    print('--------------------------------------------------')\n",
    "    print('Article Id:', result.get('id'))\n",
    "    print('Article Text:', result.get('article_text'))"
   ]
  },
  {
   "cell_type": "code",
   "execution_count": 22,
   "metadata": {},
   "outputs": [
    {
     "name": "stdout",
     "output_type": "stream",
     "text": [
      "Number of results: 10\n",
      "--------------------------------------------------\n",
      "Company id: 1/article_companies#0\n",
      "company_description: Fortinet, Inc. is engaged in offering cybersecurity and networking solutions. The Company provides cyber security solutions to a variety of organizations, including enterprises, communication service providers, security service providers, government organizations and small businesses. The Companyâ€™s product offerings consist of its core platform network security products and its enhanced platform technology products, which are offered in a range of forms spanning physical appliances, virtual appliances, software, and cloud-hosted services. Its Secure Networking solutions enable the convergence of networking and security across all edges to provide next generation firewall, software-defined wide area network (SD- WAN), and secure access service edge (SASE). Its Zero Trust Access solutions enable customers to know and control who and what is on their network. Its FortiGuard security services counter threats in real time with artificial intelligence-powered, coordinated protection.\n",
      "--------------------------------------------------\n",
      "Company id: 1/article_companies#1\n",
      "company_description: Diamondback Energy, Inc. is an independent oil and gas company, which is focused on the acquisition, development, exploration and exploitation of unconventional, onshore oil and natural gas reserves in the Permian Basin in West Texas. The Company operates through upstream segment, which is engaged in the acquisition, development, exploration and exploitation of unconventional, onshore oil and natural gas reserves primarily in the Permian Basin in West Texas. The midstream operations are focused on owning, operating, developing and acquiring midstream infrastructure assets in the Midland and Delaware Basins of the Permian Basin. Its total acreage position in the Permian Basin is approximately 508,767 net acres, which consisted primarily of approximately 325,540 acres in the Midland Basin and approximately 150,719 acres in the Delaware Basin. The Companyâ€™s subsidiaries include Diamondback E&P LLC, Viper Energy Partners GP LLC, Rattler Midstream GP LLC, and QEP Resources, Inc.\n",
      "--------------------------------------------------\n",
      "Company id: 1/article_companies#2\n",
      "company_description: Broadcom Inc. is a global technology company that designs, develops and supplies a range of semiconductor and infrastructure software solutions. The Companyâ€™s segments include semiconductor solutions and infrastructure software. The semiconductor solutions segment includes all of its product lines and intellectual property (IP) licensing. Its infrastructure software segment includes its mainframe, distributed and cyber security solutions, and its fiber channel storage area networking (FC SAN) business. It provides semiconductor solutions for managing the movement of data in data center, service provider, enterprise and embedded networking applications. It provides a variety of radio frequency semiconductor devices, wireless connectivity solutions, custom touch controllers, and inductive charging solutions for mobile applications. It provides a portfolio of software solutions that enables customers to plan, develop, automate, manage, and secure applications across various platforms.\n",
      "--------------------------------------------------\n",
      "Company id: 1/article_companies#3\n",
      "company_description: NVIDIA Corporation accelerates computing to help solve the computational problems. The Company has two segments. The Compute & Networking segment includes its data center accelerated computing platform; networking; automotive artificial intelligence (AI) cockpit, autonomous driving development agreements and autonomous vehicle solutions; electric vehicle computing platforms; Jetson for robotics and other embedded platforms; NVIDIA AI Enterprise and other software; and cryptocurrency mining processors (CMP). The Graphics segment includes GeForce GPUs for gaming and personal computers (PCs), the GeForce NOW game streaming service and related infrastructure, and solutions for gaming platforms; Quadro/NVIDIA RTX GPUs for enterprise workstation graphics; virtual GPU (vGPU), software for cloud-based visual and virtual computing; automotive platforms for infotainment systems; and omniverse enterprise software for building and operating metaverse and three-dimensional Internet applications.\n",
      "--------------------------------------------------\n",
      "Company id: 1/article_companies#4\n",
      "company_description: Tesla, Inc. designs, develops, manufactures, sells and leases fully electric vehicles and energy generation and storage systems, and offer services related to its products. The Company's automotive segment includes the design, development, manufacturing, sales, and leasing of electric vehicles as well as sales of automotive regulatory credits. Additionally, the automotive segment is also comprised of services and other, which includes non-warranty after-sales vehicle services, sales of used vehicles, retail merchandise, sales by its acquired subsidiaries to third party customers, and vehicle insurance. Its energy generation and storage segment include the design, manufacture, installation, sales and leasing of solar energy generation and energy storage products and related services and sales of solar energy systems incentives. Its automotive products include Model 3, Model Y, Model S and Model X. Powerwall and Megapack are its lithium-ion battery energy storage products.\n",
      "--------------------------------------------------\n",
      "Company id: 2/article_companies#0\n",
      "company_description: Micron Technology, Inc. is a provider of memory and storage solutions. The Company's product portfolio includes dynamic random-access memory (DRAM), negative-AND (NAND), three-dimensional (3D) XPoint memory, and NOR, solid-state drives, graphics and high bandwidth memory (HBM), managed NAND and multichip packages. Its brands include Micron and Crucial. The Company's segments include Compute and Networking Business Unit (CNBU) includes memory products sold into client, cloud server, enterprise, graphics, and networking markets; Mobile Business Unit (MBU) includes memory and storage products sold into smartphone and other mobile-device markets; Storage Business Unit (SBU) includes solid state drives (SSDs) and component-level solutions sold into enterprise and cloud, client, and consumer storage markets and other discrete storage products; Embedded Business Unit (EBU) includes memory and storage products sold into automotive, industrial, and consumer markets.\n",
      "--------------------------------------------------\n",
      "Company id: 2/article_companies#1\n",
      "company_description: Advanced Micro Devices, Inc. is a global semiconductor company. The Company operates through four segments: Data Center, Client, Gaming, and Embedded. The Data Center segment includes server central processing units (CPUs) and graphics processing units (GPUs), data processing units (DPUs), field programmable gate arrays (FPGAs) and adaptive system-on-a-chip (SoC) products for data centers. The Client segment includes CPUs, accelerated processing units (APUs) that integrate microprocessors and GPUs (APUs), and chipsets for desktop and notebook personal computers. The Gaming segment includes discrete GPUs, semi-custom SoC products and development services. The Embedded segment, which primarily includes embedded CPUs and GPUs, FPGAs, and adaptive SoC products. The Companyâ€™s CPUs for desktop platforms include the AMD Ryzen and AMD Athlon series processors. Its mobile APUs include AMD Ryzen and AMD Athlon mobile processors for the commercial and consumer markets.\n",
      "--------------------------------------------------\n",
      "Company id: 2/article_companies#2\n",
      "company_description: Moderna, Inc. is a biotechnology company. The Company is focused on developing messenger ribonucleic acid (mRNA) therapeutics and vaccines. It is developing therapeutics and vaccines for infectious diseases, immuno-oncology, rare diseases, autoimmune and cardiovascular diseases, independently and with its strategic collaborators. mRNA medicines are designed to direct the bodyâ€™s cells to produce intracellular, membrane, or secreted proteins that have a therapeutic or preventive benefit with the potential to address a range spectrum of diseases. The Company's products include Spikevax, the Moderna COVID-19 vaccine (mRNA-1273), a bivalent vaccine targeting the BA.1 Omicron variant, combined with Spikevax (mRNA-1273.214), and bivalent vaccine targeting the BA.4/BA.5 Omicron variants combined with Spikevax (mRNA-1273.222). It has a development pipeline of 45 development candidates across its 48 development programs, of which 38 are in clinical studies.\n",
      "--------------------------------------------------\n",
      "Company id: 2/article_companies#3\n",
      "company_description: Fortinet, Inc. is engaged in offering cybersecurity and networking solutions. The Company provides cyber security solutions to a variety of organizations, including enterprises, communication service providers, security service providers, government organizations and small businesses. The Companyâ€™s product offerings consist of its core platform network security products and its enhanced platform technology products, which are offered in a range of forms spanning physical appliances, virtual appliances, software, and cloud-hosted services. Its Secure Networking solutions enable the convergence of networking and security across all edges to provide next generation firewall, software-defined wide area network (SD- WAN), and secure access service edge (SASE). Its Zero Trust Access solutions enable customers to know and control who and what is on their network. Its FortiGuard security services counter threats in real time with artificial intelligence-powered, coordinated protection.\n",
      "--------------------------------------------------\n",
      "Company id: 2/article_companies#4\n",
      "company_description: GE HealthCare Technologies Inc. is a global medical technology, pharmaceutical diagnostics, and digital solutions company. The Company develops, manufactures, and markets a portfolio of products, services, and complementary digital solutions used in the diagnosis, treatment, and monitoring of patients. The Company's segments include Imaging, Ultrasound, Patient Care Solutions and Pharmaceutical Diagnostics. The Imaging segment includes scanning devices, clinical applications, service capabilities and digital solutions. The Ultrasound segment includes screening, diagnosis, treatment, and monitoring of certain diseases. The Patient Care Solutions segment includes medical devices, services, consumable products, services, and digital solutions. The Pharmaceutical Diagnostics segment is a supplier of diagnostic agents to the global radiology and nuclear medicine industry.\n"
     ]
    }
   ],
   "source": [
    "#search for companies that provide software solutions\n",
    "query = 'doc_type:company AND company_description:(software)'\n",
    "fields = 'id, company_description'\n",
    "params = {'fl': fields, 'rows': 10}\n",
    "results = solr.solr.search(query, **params)\n",
    "\n",
    "print(\"Number of results:\", len(results))\n",
    "for result in results:\n",
    "    print('--------------------------------------------------')\n",
    "    print('Company id:', result.get('id'))\n",
    "    print('company_description:', result.get('company_description'))\n",
    "\n"
   ]
  },
  {
   "cell_type": "code",
   "execution_count": 15,
   "metadata": {},
   "outputs": [],
   "source": [
    "#solr.close()"
   ]
  }
 ],
 "metadata": {
  "kernelspec": {
   "display_name": "Python 3",
   "language": "python",
   "name": "python3"
  },
  "language_info": {
   "codemirror_mode": {
    "name": "ipython",
    "version": 3
   },
   "file_extension": ".py",
   "mimetype": "text/x-python",
   "name": "python",
   "nbconvert_exporter": "python",
   "pygments_lexer": "ipython3",
   "version": "3.11.4"
  }
 },
 "nbformat": 4,
 "nbformat_minor": 2
}
