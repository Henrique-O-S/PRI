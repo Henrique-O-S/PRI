{
 "cells": [
  {
   "cell_type": "code",
   "execution_count": null,
   "metadata": {},
   "outputs": [],
   "source": [
    "from solr_manager import SolrManager\n",
    "\n",
    "url = 'http://localhost:8983/solr/'\n",
    "core = 'articles'\n",
    "db = 'sqlite:///../data/articles.db'\n",
    "solr = SolrManager(url, core, db)"
   ]
  },
  {
   "cell_type": "code",
   "execution_count": null,
   "metadata": {},
   "outputs": [],
   "source": [
    "# run if you want to change an existent schema (in case of error, wait for core to load)\n",
    "solr.reload_core()"
   ]
  },
  {
   "cell_type": "code",
   "execution_count": null,
   "metadata": {},
   "outputs": [],
   "source": [
    "# run if you want to delete all documents in the core (in case of error, wait for core to load)\n",
    "solr.clear_documents()"
   ]
  },
  {
   "cell_type": "code",
   "execution_count": null,
   "metadata": {},
   "outputs": [],
   "source": [
    "# in case of error, wait for core to load\n",
    "schema = 'schema.json'\n",
    "solr.submit_schema(schema)\n",
    "solr.apply_stopwords('stopwords.txt')\n",
    "solr.apply_synonyms('synonyms.txt')"
   ]
  },
  {
   "cell_type": "code",
   "execution_count": null,
   "metadata": {},
   "outputs": [],
   "source": [
    "solr.index_articles()"
   ]
  },
  {
   "cell_type": "code",
   "execution_count": null,
   "metadata": {},
   "outputs": [],
   "source": [
    "# search for articles and their companies \n",
    "query = 'doc_type:article'\n",
    "fields = 'id, article_companies, [child], company_tag'\n",
    "params = {'fl': fields, 'rows': 100}\n",
    "\n",
    "results = solr.solr.search(query, **params)\n",
    "print(\"Number of results:\", len(results))\n",
    "for result in results.docs:\n",
    "    print('--------------------------------------------------')\n",
    "    print('Article Id:', result.get('id'))\n",
    "    print('Article Companies:', result.get('article_companies'))"
   ]
  },
  {
   "cell_type": "code",
   "execution_count": null,
   "metadata": {},
   "outputs": [],
   "source": [
    "# search articles where a specific company is in the text\n",
    "query = \"article_text:(Tesla)\"\n",
    "fields = 'id, article_title, article_date'\n",
    "params = {\n",
    "    'defType': 'edismax',\n",
    "    'fl': fields, \n",
    "    'rows': 10,\n",
    "    'bf': 'recip(ms(NOW,article_date),1.65e-9,1,1)'\n",
    "}\n",
    "\n",
    "results = solr.solr.search(query, **params)\n",
    "print(\"Number of results:\", len(results))\n",
    "for result in results:\n",
    "    print('--------------------------------------------------')\n",
    "    print('Article Id:', result.get('id'))\n",
    "    print('Article Title:', result.get('article_title'))\n",
    "    print('Article Date:', result.get('article_date'))"
   ]
  },
  {
   "cell_type": "code",
   "execution_count": null,
   "metadata": {},
   "outputs": [],
   "source": [
    "# search articles where a specific company is in the text\n",
    "query = \"article_text:(Tesla company)\"\n",
    "fields = 'id, article_title, article_date, article_link'\n",
    "params = {\n",
    "    'defType': 'edismax',\n",
    "    'fl': fields, \n",
    "    'rows': 10,\n",
    "    'mm': '75%',\n",
    "}\n",
    "\n",
    "results = solr.solr.search(query, **params)\n",
    "print(\"Number of results:\", len(results))\n",
    "for result in results:\n",
    "    print('--------------------------------------------------')\n",
    "    print('Article Id:', result.get('id'))\n",
    "    print('Article Title:', result.get('article_title'))\n",
    "    print('Article Date:', result.get('article_date'))\n",
    "    print('Article Link:', result.get('article_link'))"
   ]
  },
  {
   "cell_type": "code",
   "execution_count": null,
   "metadata": {},
   "outputs": [],
   "source": [
    "# search stock events on a specific day\n",
    "query = \"doc_type:article\"\n",
    "fields = 'id, article_title, article_date'\n",
    "filters = \"article_date:[2023-05-30T00:00:00Z TO 2023-05-30T23:59:59Z]\"\n",
    "params = {'fl': fields, 'fq': filters, 'rows': 10}\n",
    "\n",
    "results = solr.solr.search(query, **params)\n",
    "print(\"Number of results:\", len(results))\n",
    "for result in results:\n",
    "    print('--------------------------------------------------')\n",
    "    print('Article Id:', result.get('id'))\n",
    "    print('Article Title:', result.get('article_title'))\n",
    "    print('Article Date:', result.get('article_date'))"
   ]
  },
  {
   "cell_type": "code",
   "execution_count": null,
   "metadata": {},
   "outputs": [],
   "source": [
    "# search for companies of a specific sector\n",
    "query = \"company_keywords:semiconductor\"\n",
    "fields = 'company_name, company_description'\n",
    "params = {'fl': fields, 'rows': 10}\n",
    "results = solr.solr.search(query, **params)\n",
    "\n",
    "print(\"Number of results:\", len(results))\n",
    "for result in results:\n",
    "    print('--------------------------------------------------')\n",
    "    print('Company Name:', result.get('company_name'))\n",
    "    print('Company Description:', result.get('company_description'))"
   ]
  },
  {
   "cell_type": "code",
   "execution_count": null,
   "metadata": {},
   "outputs": [],
   "source": [
    "# search for articles with companies of a specific sector\n",
    "query = \"{!parent which='doc_type:article'}company_keywords:cybersecurity\"\n",
    "fields = 'id, article_title, article_companies, [child], company_tag'\n",
    "params = {'fl': fields, 'rows': 100}\n",
    "results = solr.solr.search(query, **params)\n",
    "\n",
    "print(\"Number of results:\", len(results))\n",
    "for result in results:\n",
    "    print('--------------------------------------------------')\n",
    "    print('Article Id:', result.get('id'))\n",
    "    print('Article Title:', result.get('article_title'))\n",
    "    print('Article Companies:', result.get('article_companies'))\n"
   ]
  },
  {
   "cell_type": "code",
   "execution_count": null,
   "metadata": {},
   "outputs": [],
   "source": [
    "# search for stock ups for Tesla\n",
    "query = \"doc_type:article AND article_text:\\\"Tesla gained\\\"~3\"\n",
    "fields = 'id, article_text'\n",
    "params = {'fl': fields, 'rows': 10}\n",
    "results = solr.solr.search(query, **params)\n",
    "\n",
    "print(\"Number of results:\", len(results))\n",
    "for result in results:\n",
    "    print('--------------------------------------------------')\n",
    "    print('Article Id:', result.get('id'))\n",
    "    print('Article Text:', result.get('article_text'))"
   ]
  },
  {
   "cell_type": "code",
   "execution_count": null,
   "metadata": {},
   "outputs": [],
   "source": [
    "# search for stock downs for Tesla\n",
    "query = \"doc_type:article AND article_text:\\\"Tesla fell\\\"~3\"\n",
    "fields = 'id, article_text'\n",
    "params = {'fl': fields, 'rows': 10}\n",
    "results = solr.solr.search(query, **params)\n",
    "\n",
    "print(\"Number of results:\", len(results))\n",
    "for result in results:\n",
    "    print('--------------------------------------------------')\n",
    "    print('Article Id:', result.get('id'))\n",
    "    print('Article Text:', result.get('article_text'))"
   ]
  },
  {
   "cell_type": "code",
   "execution_count": null,
   "metadata": {},
   "outputs": [],
   "source": [
    "#trending companies\n",
    "\n",
    "query = \"doc_type:article\"\n",
    "\n",
    "# Define a facet on the \"company_name\" field in the child documents\n",
    "facet_field = \"company_name\"\n",
    "filters = \"article_date:[2023-01-01T00:00:00Z TO *]\"\n",
    "# Specify the number of companies you want to retrieve (adjust as needed)\n",
    "facet_limit = 10\n",
    "\n",
    "# Specify the fields you want to retrieve from the child documents\n",
    "fields = 'id, company_name, article_companies, [child]'\n",
    "\n",
    "\n",
    "\n",
    "# Build the parameters dictionary\n",
    "params = {'fl': fields, 'fq': filters, 'facet': 'true', 'facet.field': facet_field, 'facet.limit': facet_limit}\n",
    "\n",
    "# Execute the query\n",
    "results = solr.solr.search(query, **params)\n",
    "print(results.facets)\n",
    "#Print the facet results\n"
   ]
  },
  {
   "cell_type": "code",
   "execution_count": null,
   "metadata": {},
   "outputs": [],
   "source": [
    "solr.close()"
   ]
  }
 ],
 "metadata": {
  "kernelspec": {
   "display_name": "Python 3",
   "language": "python",
   "name": "python3"
  },
  "language_info": {
   "codemirror_mode": {
    "name": "ipython",
    "version": 3
   },
   "file_extension": ".py",
   "mimetype": "text/x-python",
   "name": "python",
   "nbconvert_exporter": "python",
   "pygments_lexer": "ipython3",
   "version": "3.8.0"
  }
 },
 "nbformat": 4,
 "nbformat_minor": 2
}
