{
 "cells": [
  {
   "cell_type": "code",
   "execution_count": null,
   "metadata": {},
   "outputs": [],
   "source": [
    "from solr_manager import SolrManager\n",
    "\n",
    "url = 'http://localhost:8983/solr/'\n",
    "core = 'articles'\n",
    "db = 'sqlite:///../data/articles.db'\n",
    "solr = SolrManager(url, core, db)"
   ]
  },
  {
   "cell_type": "code",
   "execution_count": null,
   "metadata": {},
   "outputs": [],
   "source": [
    "# run if you want to change an existent schema (in case of error, wait for core to load)\n",
    "solr.reload_core()"
   ]
  },
  {
   "cell_type": "code",
   "execution_count": null,
   "metadata": {},
   "outputs": [],
   "source": [
    "# run if you want to delete all documents in the core (in case of error, wait for core to load)\n",
    "solr.clear_documents()"
   ]
  },
  {
   "cell_type": "code",
   "execution_count": null,
   "metadata": {},
   "outputs": [],
   "source": [
    "# in case of error, wait for core to load\n",
    "schema = 'schema.json'\n",
    "solr.submit_schema(schema)"
   ]
  },
  {
   "cell_type": "code",
   "execution_count": null,
   "metadata": {},
   "outputs": [],
   "source": [
    "solr.index_articles()"
   ]
  },
  {
   "cell_type": "code",
   "execution_count": null,
   "metadata": {},
   "outputs": [],
   "source": [
    "# search for articles and their companies \n",
    "query = 'doc_type:article'\n",
    "fields = 'id, article_companies, [child], company_tag'\n",
    "params = {'fl': fields, 'rows': 100}\n",
    "\n",
    "results = solr.solr.search(query, **params)\n",
    "print(\"Number of results:\", len(results))\n",
    "for result in results.docs:\n",
    "    print('--------------------------------------------------')\n",
    "    print('Article Id:', result.get('id'))\n",
    "    print('Article Companies:', result.get('article_companies'))"
   ]
  },
  {
   "cell_type": "code",
   "execution_count": null,
   "metadata": {},
   "outputs": [],
   "source": [
    "# search articles where a specific company is in the text\n",
    "query = \"article_text:(Tesla)\"\n",
    "fields = 'id, article_title'\n",
    "params = {'fl': fields, 'rows': 10}\n",
    "\n",
    "results = solr.solr.search(query, **params)\n",
    "print(\"Number of results:\", len(results))\n",
    "for result in results:\n",
    "    print('--------------------------------------------------')\n",
    "    print('Article Id:', result.get('id'))\n",
    "    print('Article Title:', result.get('article_title'))"
   ]
  },
  {
   "cell_type": "code",
   "execution_count": null,
   "metadata": {},
   "outputs": [],
   "source": [
    "# search stock events on a specific day\n",
    "query = \"article_date:[2023-05-30T00:00:00Z TO 2023-05-30T23:59:59Z]\"\n",
    "fields = 'id, article_title, article_date'\n",
    "params = {'fl': fields, 'rows': 10}\n",
    "\n",
    "results = solr.solr.search(query, **params)\n",
    "print(\"Number of results:\", len(results))\n",
    "for result in results:\n",
    "    print('--------------------------------------------------')\n",
    "    print('Article Id:', result.get('id'))\n",
    "    print('Article Title:', result.get('article_title'))\n",
    "    print('Article Date:', result.get('article_date'))"
   ]
  },
  {
   "cell_type": "code",
   "execution_count": null,
   "metadata": {},
   "outputs": [],
   "source": [
    "# search stock downs\n",
    "query = \"article_text:fell\"\n",
    "fields = 'id, article_title, article_date, article_text'\n",
    "params = {'fl': fields, 'rows': 10}\n",
    "\n",
    "results = solr.solr.search(query, **params)\n",
    "print(\"Number of results:\", len(results))\n",
    "for result in results:\n",
    "    print('--------------------------------------------------')\n",
    "    print('Article Id:', result.get('id'))\n",
    "    print('Article Title:', result.get('article_title'))\n",
    "    print('Article Date:', result.get('article_date'))\n",
    "    print('Article Text:', result.get('article_text'))"
   ]
  },
  {
   "cell_type": "code",
   "execution_count": null,
   "metadata": {},
   "outputs": [],
   "source": [
    "# search stock ups on a specific data range\n",
    "query = \"article_text:gained AND article_date:[2023-01-01T00:00:00Z TO 2023-01-31T23:59:59Z]\"\n",
    "fields = 'id, article_title, article_date, article_text'\n",
    "params = {'fl': fields, 'rows': 10}\n",
    "\n",
    "results = solr.solr.search(query, **params)\n",
    "print(\"Number of results:\", len(results))\n",
    "for result in results:\n",
    "    print('--------------------------------------------------')\n",
    "    print('Article Id:', result.get('id'))\n",
    "    print('Article Title:', result.get('article_title'))\n",
    "    print('Article Date:', result.get('article_date'))\n",
    "    print('Article Text:', result.get('article_text'))"
   ]
  },
  {
   "cell_type": "code",
   "execution_count": null,
   "metadata": {},
   "outputs": [],
   "source": [
    "# search for companies of a specific sector\n",
    "query = \"company_keywords:semiconductor\"\n",
    "fields = 'company_name, company_description'\n",
    "params = {'fl': fields, 'rows': 10}\n",
    "results = solr.solr.search(query, **params)\n",
    "\n",
    "print(\"Number of results:\", len(results))\n",
    "for result in results:\n",
    "    print('--------------------------------------------------')\n",
    "    print('Company Name:', result.get('company_name'))\n",
    "    print('Company Description:', result.get('company_description'))"
   ]
  },
  {
   "cell_type": "code",
   "execution_count": null,
   "metadata": {},
   "outputs": [],
   "source": [
    "# search for articles with companies of a specific sector\n",
    "query = \"{!parent which='doc_type:article'}company_keywords:cybersecurity\"\n",
    "fields = 'id, article_title, article_companies, [child], company_tag'\n",
    "params = {'fl': fields, 'rows': 100}\n",
    "results = solr.solr.search(query, **params)\n",
    "\n",
    "print(\"Number of results:\", len(results))\n",
    "for result in results:\n",
    "    print('--------------------------------------------------')\n",
    "    print('Article Id:', result.get('id'))\n",
    "    print('Article Title:', result.get('article_title'))\n",
    "    print('Article Companies:', result.get('article_companies'))\n"
   ]
  },
  {
   "cell_type": "code",
   "execution_count": 58,
   "metadata": {},
   "outputs": [
    {
     "name": "stdout",
     "output_type": "stream",
     "text": [
      "Solr container with core articles stopped successfully.\n"
     ]
    }
   ],
   "source": [
    "solr.close()"
   ]
  }
 ],
 "metadata": {
  "kernelspec": {
   "display_name": "Python 3",
   "language": "python",
   "name": "python3"
  },
  "language_info": {
   "codemirror_mode": {
    "name": "ipython",
    "version": 3
   },
   "file_extension": ".py",
   "mimetype": "text/x-python",
   "name": "python",
   "nbconvert_exporter": "python",
   "pygments_lexer": "ipython3",
   "version": "3.8.0"
  }
 },
 "nbformat": 4,
 "nbformat_minor": 2
}
