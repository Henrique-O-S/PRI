{
 "cells": [
  {
   "cell_type": "code",
   "execution_count": 13,
   "metadata": {},
   "outputs": [
    {
     "name": "stdout",
     "output_type": "stream",
     "text": [
      "Solr container with core articles started successfully.\n"
     ]
    }
   ],
   "source": [
    "from solr_manager import SolrManager\n",
    "\n",
    "url = 'http://localhost:8983/solr/'\n",
    "core = 'articles'\n",
    "db = 'sqlite:///../data/articles.db'\n",
    "solr = SolrManager(url, core, db)"
   ]
  },
  {
   "cell_type": "code",
   "execution_count": 8,
   "metadata": {},
   "outputs": [
    {
     "name": "stdout",
     "output_type": "stream",
     "text": [
      "Core articles unloaded successfully.\n",
      "Solr data deleted successfully.\n",
      "Solr container with core articles stopped successfully.\n",
      "Solr container with core articles started successfully.\n"
     ]
    }
   ],
   "source": [
    "# run if you want to change an existent schema\n",
    "solr.reset_core()"
   ]
  },
  {
   "cell_type": "code",
   "execution_count": 9,
   "metadata": {},
   "outputs": [
    {
     "name": "stdout",
     "output_type": "stream",
     "text": [
      "Schema uploaded successfully.\n"
     ]
    }
   ],
   "source": [
    "# if a message saying the solr core is loading appears, try to run after the loading is done\n",
    "schema = 'schema.json'\n",
    "solr.submit_schema(schema)"
   ]
  },
  {
   "cell_type": "code",
   "execution_count": 10,
   "metadata": {},
   "outputs": [
    {
     "name": "stdout",
     "output_type": "stream",
     "text": [
      "Indexing article 1...\n",
      "Indexing article 2...\n",
      "Indexing article 3...\n",
      "Indexing article 4...\n",
      "Indexing article 5...\n",
      "Indexing article 6...\n",
      "Indexing article 7...\n",
      "Indexing article 8...\n",
      "Indexing article 9...\n",
      "Indexing article 10...\n",
      "Articles indexed successfully.\n"
     ]
    }
   ],
   "source": [
    "solr.index_articles()"
   ]
  },
  {
   "cell_type": "code",
   "execution_count": 11,
   "metadata": {},
   "outputs": [
    {
     "name": "stdout",
     "output_type": "stream",
     "text": [
      "Found 3 documents\n",
      "The title is '{'company_tag': 'ENPH', 'company_name': 'Enphase Energy Inc', 'company_description': 'Enphase Energy, Inc. is a global energy technology company. The Company designs, develops, manufactures and sells home energy solutions that manage energy generation, energy storage and control and communications on one platform. Its Enphase Energy System brings a high technology, networked approach to solar generation plus energy storage, by leveraging its design for power electronics, semiconductors and cloud-based software technologies. Its integrated approach to energy solutions increases a home energy potential while, providing advanced monitoring and remote maintenance capabilities. The Enphase Energy System uses a single technology platform for seamless management of the whole solution, enables rapid commissioning with the Enphase Installer Application, consumption monitoring with Enphase IQ Gateway with IQ Combiner+, Enphase Application, a cloud-based energy management platform and its IQ Battery. Its commercial systems have been deployed in approximately 145 countries.', 'company_keywords': ['enphase energy, energy storage, global energy technology company, company designs, energy solutions, manage energy generation, high technology, solar generation, power electronics, software technologies, energy solutions increases, energy potential, remote maintenance capabilities, system uses, technology platform, seamless management, whole solution, enphase installer application, enphase iq, iq combiner+, enphase application, energy management platform, iq battery, commercial systems'], 'id': '10/companies#3', '_version_': 1781925062551535616}'.\n",
      "The title is '{'company_tag': 'GEHC', 'company_name': 'GE Healthcare Technologies Inc', 'company_description': \"GE HealthCare Technologies Inc. is a global medical technology, pharmaceutical diagnostics, and digital solutions company. The Company develops, manufactures, and markets a portfolio of products, services, and complementary digital solutions used in the diagnosis, treatment, and monitoring of patients. The Company's segments include Imaging, Ultrasound, Patient Care Solutions and Pharmaceutical Diagnostics. The Imaging segment includes scanning devices, clinical applications, service capabilities and digital solutions. The Ultrasound segment includes screening, diagnosis, treatment, and monitoring of certain diseases. The Patient Care Solutions segment includes medical devices, services, consumable products, services, and digital solutions. The Pharmaceutical Diagnostics segment is a supplier of diagnostic agents to the global radiology and nuclear medicine industry.\", 'company_keywords': [\"pharmaceutical diagnostics, imaging, ultrasound, patient care solutions, digital solutions, ge healthcare technologies, global medical technology, digital solutions company, complementary digital solutions, company 's segments, clinical applications, service capabilities, certain diseases, medical devices, consumable products, diagnostic agents, global radiology, nuclear medicine industry\"], 'id': '2/companies#4', '_version_': 1781925057482719232}'.\n",
      "The title is '{'company_tag': 'AVGO', 'company_name': 'Broadcom Inc', 'company_description': 'Broadcom Inc. is a global technology company that designs, develops and supplies a range of semiconductor and infrastructure software solutions. The Companyâ€™s segments include semiconductor solutions and infrastructure software. The semiconductor solutions segment includes all of its product lines and intellectual property (IP) licensing. Its infrastructure software segment includes its mainframe, distributed and cyber security solutions, and its fiber channel storage area networking (FC SAN) business. It provides semiconductor solutions for managing the movement of data in data center, service provider, enterprise and embedded networking applications. It provides a variety of radio frequency semiconductor devices, wireless connectivity solutions, custom touch controllers, and inductive charging solutions for mobile applications. It provides a portfolio of software solutions that enables customers to plan, develop, automate, manage, and secure applications across various platforms.', 'company_keywords': ['semiconductor solutions, broadcom, global technology company, infrastructure software solutions, companyâ€™s, infrastructure software, semiconductor solutions segment, product lines, intellectual property, ip, infrastructure software segment, cyber security solutions, fiber channel storage area, fc san, data center, service provider, radio frequency semiconductor devices, wireless connectivity solutions, custom touch controllers, mobile applications, software solutions, various platforms'], 'id': '1/companies#2', '_version_': 1781925056771784704}'.\n"
     ]
    }
   ],
   "source": [
    "# working with this while query_articles() is not functional\n",
    "results = solr.solr.search(\"company_description:technology\", **{'fl': '', 'rows': 3})\n",
    "\n",
    "print(\"Found {0} documents\".format(len(results)))\n",
    "for result in results.docs:\n",
    "    print(\"The title is '{0}'.\".format(result))"
   ]
  },
  {
   "cell_type": "code",
   "execution_count": 14,
   "metadata": {},
   "outputs": [
    {
     "name": "stdout",
     "output_type": "stream",
     "text": [
      "Solr container with core articles stopped successfully.\n"
     ]
    }
   ],
   "source": [
    "solr.close()"
   ]
  }
 ],
 "metadata": {
  "kernelspec": {
   "display_name": "Python 3",
   "language": "python",
   "name": "python3"
  },
  "language_info": {
   "codemirror_mode": {
    "name": "ipython",
    "version": 3
   },
   "file_extension": ".py",
   "mimetype": "text/x-python",
   "name": "python",
   "nbconvert_exporter": "python",
   "pygments_lexer": "ipython3",
   "version": "3.8.0"
  }
 },
 "nbformat": 4,
 "nbformat_minor": 2
}
